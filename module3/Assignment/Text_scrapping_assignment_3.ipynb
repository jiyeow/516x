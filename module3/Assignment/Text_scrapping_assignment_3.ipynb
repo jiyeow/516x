{
 "cells": [
  {
   "cell_type": "markdown",
   "metadata": {},
   "source": [
    "# Text Scrapping Assignment\n",
    "Precipitation is a major driver for non-point source pollutants runoff, and the impact of precipitation may vary annually, seasonally, or even monthly. For example, soil is more prone to erosion during planting seasons (March-May) when land cover is minimal. Consequently, a similar precipitation events (intensity and duration) may result in greater soil erosion during planting season as compared to the late-growing season. <br>\n",
    "\n",
    "Therefore, it is important to understand the precipitation pattern when evaluating the fate and transport of non-point source pollutants. The objectives of this task are: <br>\n",
    "1) To gather historical precipitation data through an open API <br>\n",
    "2) Plot daily precipitation depth for each monitoring year (2016-2018) <br>\n",
    "3) Calculate and plot monthly cumulative precipitation depth <br>\n",
    "4) Calculate and plot annual cumulative precipitation depth <br>\n",
    "5) Compare the precipitation depths between the monitoring years\n",
    "\n",
    "In the future development, this data will be paired with nutrient concentration and loading data to identify any possible correlations.\n"
   ]
  },
  {
   "cell_type": "code",
   "execution_count": 1,
   "metadata": {},
   "outputs": [],
   "source": [
    "import urllib\n",
    "import urllib.parse\n",
    "import json\n",
    "import pandas as pd\n",
    "import numpy as np\n",
    "import datetime as dt\n",
    "import calendar\n",
    "from datetime import datetime\n",
    "import pprint\n",
    "\n",
    "pd.set_option('mode.chained_assignment', None)"
   ]
  },
  {
   "cell_type": "markdown",
   "metadata": {},
   "source": [
    "## Objective 1\n",
    "To gather historical precipitation data through an open API <br> \n",
    "\n",
    "In[2] and [3] provided by https://github.com/ekapope/WorldWeatherOnline/tree/master/wwo_hist"
   ]
  },
  {
   "cell_type": "code",
   "execution_count": 2,
   "metadata": {},
   "outputs": [],
   "source": [
    "def extract_monthly_data(data):\n",
    "    num_days = len(data)\n",
    "    # initialize df_month to store return data\n",
    "    df_month = pd.DataFrame()\n",
    "    for i in range(num_days):\n",
    "        # extract this day\n",
    "        d = data[i]\n",
    "        # astronomy data is the same for the whole day\n",
    "        astr_df = pd.DataFrame(d['astronomy'])\n",
    "        # hourly data; temperature for each hour of the day\n",
    "        hourly_df = pd.DataFrame(d['hourly'])\n",
    "        # this wanted_key will be duplicated and use 'ffill' to fill up the NAs\n",
    "        wanted_keys = ['date', 'maxtempC', 'mintempC', 'totalSnow_cm', 'sunHour', 'uvIndex'] # The keys you want\n",
    "        subset_d = dict((k, d[k]) for k in wanted_keys if k in d)\n",
    "        this_df = pd.DataFrame(subset_d,index=[0])        \n",
    "        df = pd.concat([this_df.reset_index(drop=True), astr_df], axis=1)\n",
    "        # concat selected astonomy columns with hourly data\n",
    "        df = pd.concat([df,hourly_df], axis=1)\n",
    "        df = df.fillna(method='ffill')\n",
    "        # make date_time columm to proper format\n",
    "        # fill leading zero for hours to 4 digits (0000-2400 hr)\n",
    "        df['time'] = df['time'].apply(lambda x: x.zfill(4))\n",
    "        # keep only first 2 digit (00-24 hr) \n",
    "        df['time'] = df['time'].str[:2]\n",
    "        # convert to pandas datetime\n",
    "        df['date_time'] = pd.to_datetime(df['date'] + ' ' + df['time'])\n",
    "        # keep only interested columns\n",
    "        col_to_keep = ['date_time', 'maxtempC', 'mintempC', 'totalSnow_cm', 'sunHour', 'uvIndex', \n",
    "               'moon_illumination', 'moonrise', 'moonset', 'sunrise', 'sunset', \n",
    "               'DewPointC',  'FeelsLikeC', 'HeatIndexC', 'WindChillC', 'WindGustKmph',\n",
    "               'cloudcover', 'humidity', 'precipMM', 'pressure', 'tempC', 'visibility',\n",
    "               'winddirDegree', 'windspeedKmph']\n",
    "        df = df[col_to_keep]\n",
    "        df_month = pd.concat([df_month,df])\n",
    "    return(df_month)"
   ]
  },
  {
   "cell_type": "code",
   "execution_count": 3,
   "metadata": {},
   "outputs": [],
   "source": [
    "#function to retrive data by date range and location\n",
    "#default frequency = 1 hr\n",
    "#each month costs 1 request (free trial 500 requests/key, as of 30-May-2019)\n",
    "def retrieve_this_location(api_key,location,start_date,end_date,frequency):\n",
    "    \n",
    "    start_time = datetime.now()\n",
    "    \n",
    "    # create list of months, convert to month begins (first day of each month)\n",
    "    list_mon_begin= pd.date_range(start_date,end_date, freq='1M')-pd.offsets.MonthBegin(1)\n",
    "    # convert to Series and append first day of the last month\n",
    "    list_mon_begin = pd.concat([pd.Series(list_mon_begin), pd.Series(pd.to_datetime(end_date,infer_datetime_format=True).replace(day=1))], ignore_index=True)\n",
    "    # change the begin date to start_date\n",
    "    list_mon_begin[0] = pd.to_datetime(start_date,infer_datetime_format=True)\n",
    "    \n",
    "    # create list of months, convert to month ends (last day of each month)\n",
    "    list_mon_end = pd.date_range(start_date,end_date, freq='1M')-pd.offsets.MonthEnd(0)\n",
    "    # convert to Series and append the end_date\n",
    "    list_mon_end = pd.concat([pd.Series(list_mon_end), pd.Series(pd.to_datetime(end_date,infer_datetime_format=True))], ignore_index=True)\n",
    "    \n",
    "    # count number of months to be retrieved\n",
    "    total_months = len(list_mon_begin)\n",
    "\n",
    "    # initialize df_hist to store return data\n",
    "    df_hist = pd.DataFrame()\n",
    "    for m in range(total_months):\n",
    "        \n",
    "        start_d =str(list_mon_begin[m])[:10]\n",
    "        end_d =str(list_mon_end[m])[:10]\n",
    "        print('Currently retrieving data for '+location+': from '+start_d+' to '+end_d)\n",
    "        \n",
    "        url_page = 'http://api.worldweatheronline.com/premium/v1/past-weather.ashx?key='+api_key+'&q='+location+'&format=json&date='+start_d+'&enddate='+end_d+'&tp='+str(frequency)\n",
    "        json_page = urllib.request.urlopen(url_page)\n",
    "        json_data = json.loads(json_page.read().decode())\n",
    "        data= json_data['data']['weather']\n",
    "       # call function to extract json object\n",
    "        df_this_month = extract_monthly_data(data)\n",
    "        df_hist = pd.concat([df_hist,df_this_month])\n",
    "        \n",
    "        time_elapsed = datetime.now() - start_time\n",
    "        print('Time elapsed (hh:mm:ss.ms) {}'.format(time_elapsed))\n",
    "    return(df_hist)"
   ]
  },
  {
   "cell_type": "code",
   "execution_count": 4,
   "metadata": {},
   "outputs": [
    {
     "name": "stdout",
     "output_type": "stream",
     "text": [
      "Enter start date as YYYY-MM-DD2016-01-01\n",
      "Enter end date as YYYY-MM-DD2018-12-31\n",
      "Currently retrieving data for 42.2422,-95.0381: from 2016-01-01 to 2016-01-31\n",
      "Time elapsed (hh:mm:ss.ms) 0:00:01.411494\n",
      "Currently retrieving data for 42.2422,-95.0381: from 2016-02-01 to 2016-02-29\n",
      "Time elapsed (hh:mm:ss.ms) 0:00:02.801734\n",
      "Currently retrieving data for 42.2422,-95.0381: from 2016-03-01 to 2016-03-31\n",
      "Time elapsed (hh:mm:ss.ms) 0:00:04.079026\n",
      "Currently retrieving data for 42.2422,-95.0381: from 2016-04-01 to 2016-04-30\n",
      "Time elapsed (hh:mm:ss.ms) 0:00:05.242391\n",
      "Currently retrieving data for 42.2422,-95.0381: from 2016-05-01 to 2016-05-31\n",
      "Time elapsed (hh:mm:ss.ms) 0:00:06.579416\n",
      "Currently retrieving data for 42.2422,-95.0381: from 2016-06-01 to 2016-06-30\n",
      "Time elapsed (hh:mm:ss.ms) 0:00:07.939809\n",
      "Currently retrieving data for 42.2422,-95.0381: from 2016-07-01 to 2016-07-31\n",
      "Time elapsed (hh:mm:ss.ms) 0:00:09.155186\n",
      "Currently retrieving data for 42.2422,-95.0381: from 2016-08-01 to 2016-08-31\n",
      "Time elapsed (hh:mm:ss.ms) 0:00:10.383166\n",
      "Currently retrieving data for 42.2422,-95.0381: from 2016-09-01 to 2016-09-30\n",
      "Time elapsed (hh:mm:ss.ms) 0:00:11.741587\n",
      "Currently retrieving data for 42.2422,-95.0381: from 2016-10-01 to 2016-10-31\n",
      "Time elapsed (hh:mm:ss.ms) 0:00:13.136887\n",
      "Currently retrieving data for 42.2422,-95.0381: from 2016-11-01 to 2016-11-30\n",
      "Time elapsed (hh:mm:ss.ms) 0:00:14.305403\n",
      "Currently retrieving data for 42.2422,-95.0381: from 2016-12-01 to 2016-12-31\n",
      "Time elapsed (hh:mm:ss.ms) 0:00:15.540353\n",
      "Currently retrieving data for 42.2422,-95.0381: from 2017-01-01 to 2017-01-31\n",
      "Time elapsed (hh:mm:ss.ms) 0:00:16.723702\n",
      "Currently retrieving data for 42.2422,-95.0381: from 2017-02-01 to 2017-02-28\n",
      "Time elapsed (hh:mm:ss.ms) 0:00:17.835922\n",
      "Currently retrieving data for 42.2422,-95.0381: from 2017-03-01 to 2017-03-31\n",
      "Time elapsed (hh:mm:ss.ms) 0:00:18.969083\n",
      "Currently retrieving data for 42.2422,-95.0381: from 2017-04-01 to 2017-04-30\n",
      "Time elapsed (hh:mm:ss.ms) 0:00:20.179262\n",
      "Currently retrieving data for 42.2422,-95.0381: from 2017-05-01 to 2017-05-31\n",
      "Time elapsed (hh:mm:ss.ms) 0:00:21.413094\n",
      "Currently retrieving data for 42.2422,-95.0381: from 2017-06-01 to 2017-06-30\n",
      "Time elapsed (hh:mm:ss.ms) 0:00:22.601102\n",
      "Currently retrieving data for 42.2422,-95.0381: from 2017-07-01 to 2017-07-31\n",
      "Time elapsed (hh:mm:ss.ms) 0:00:23.798995\n",
      "Currently retrieving data for 42.2422,-95.0381: from 2017-08-01 to 2017-08-31\n",
      "Time elapsed (hh:mm:ss.ms) 0:00:24.985478\n",
      "Currently retrieving data for 42.2422,-95.0381: from 2017-09-01 to 2017-09-30\n",
      "Time elapsed (hh:mm:ss.ms) 0:00:27.725696\n",
      "Currently retrieving data for 42.2422,-95.0381: from 2017-10-01 to 2017-10-31\n",
      "Time elapsed (hh:mm:ss.ms) 0:00:29.059384\n",
      "Currently retrieving data for 42.2422,-95.0381: from 2017-11-01 to 2017-11-30\n",
      "Time elapsed (hh:mm:ss.ms) 0:00:30.371944\n",
      "Currently retrieving data for 42.2422,-95.0381: from 2017-12-01 to 2017-12-31\n",
      "Time elapsed (hh:mm:ss.ms) 0:00:31.539573\n",
      "Currently retrieving data for 42.2422,-95.0381: from 2018-01-01 to 2018-01-31\n",
      "Time elapsed (hh:mm:ss.ms) 0:00:32.715871\n",
      "Currently retrieving data for 42.2422,-95.0381: from 2018-02-01 to 2018-02-28\n",
      "Time elapsed (hh:mm:ss.ms) 0:00:33.895546\n",
      "Currently retrieving data for 42.2422,-95.0381: from 2018-03-01 to 2018-03-31\n",
      "Time elapsed (hh:mm:ss.ms) 0:00:35.035002\n",
      "Currently retrieving data for 42.2422,-95.0381: from 2018-04-01 to 2018-04-30\n",
      "Time elapsed (hh:mm:ss.ms) 0:00:36.367874\n",
      "Currently retrieving data for 42.2422,-95.0381: from 2018-05-01 to 2018-05-31\n",
      "Time elapsed (hh:mm:ss.ms) 0:00:37.672727\n",
      "Currently retrieving data for 42.2422,-95.0381: from 2018-06-01 to 2018-06-30\n",
      "Time elapsed (hh:mm:ss.ms) 0:00:38.942476\n",
      "Currently retrieving data for 42.2422,-95.0381: from 2018-07-01 to 2018-07-31\n",
      "Time elapsed (hh:mm:ss.ms) 0:00:40.101312\n",
      "Currently retrieving data for 42.2422,-95.0381: from 2018-08-01 to 2018-08-31\n",
      "Time elapsed (hh:mm:ss.ms) 0:00:41.342003\n",
      "Currently retrieving data for 42.2422,-95.0381: from 2018-09-01 to 2018-09-30\n",
      "Time elapsed (hh:mm:ss.ms) 0:00:42.701777\n",
      "Currently retrieving data for 42.2422,-95.0381: from 2018-10-01 to 2018-10-31\n",
      "Time elapsed (hh:mm:ss.ms) 0:00:43.865408\n",
      "Currently retrieving data for 42.2422,-95.0381: from 2018-11-01 to 2018-11-30\n",
      "Time elapsed (hh:mm:ss.ms) 0:00:45.005658\n",
      "Currently retrieving data for 42.2422,-95.0381: from 2018-12-01 to 2018-12-31\n",
      "Time elapsed (hh:mm:ss.ms) 0:00:46.281641\n",
      "Currently retrieving data for 42.2422,-95.0381: from 2018-12-01 to 2018-12-31\n",
      "Time elapsed (hh:mm:ss.ms) 0:00:47.912446\n"
     ]
    }
   ],
   "source": [
    "# retrieving data for dates provided by user\n",
    "\n",
    "API_key = '3bbd19dc238c4542a08213223192409'\n",
    "location = '42.2422,-95.0381'\n",
    "startdate = input('Enter start date as YYYY-MM-DD')\n",
    "enddate = input('Enter end date as YYYY-MM-DD')\n",
    "startdate = datetime.strptime(startdate, '%Y-%m-%d')\n",
    "enddate = datetime.strptime(enddate, '%Y-%m-%d')\n",
    "weather_data  = retrieve_this_location(API_key, location, startdate, enddate,'default')"
   ]
  },
  {
   "cell_type": "code",
   "execution_count": 5,
   "metadata": {},
   "outputs": [
    {
     "data": {
      "text/html": [
       "<div>\n",
       "<style scoped>\n",
       "    .dataframe tbody tr th:only-of-type {\n",
       "        vertical-align: middle;\n",
       "    }\n",
       "\n",
       "    .dataframe tbody tr th {\n",
       "        vertical-align: top;\n",
       "    }\n",
       "\n",
       "    .dataframe thead th {\n",
       "        text-align: right;\n",
       "    }\n",
       "</style>\n",
       "<table border=\"1\" class=\"dataframe\">\n",
       "  <thead>\n",
       "    <tr style=\"text-align: right;\">\n",
       "      <th></th>\n",
       "      <th>date_time</th>\n",
       "      <th>maxtempC</th>\n",
       "      <th>mintempC</th>\n",
       "      <th>totalSnow_cm</th>\n",
       "      <th>sunHour</th>\n",
       "      <th>uvIndex</th>\n",
       "      <th>uvIndex</th>\n",
       "      <th>moon_illumination</th>\n",
       "      <th>moonrise</th>\n",
       "      <th>moonset</th>\n",
       "      <th>...</th>\n",
       "      <th>WindChillC</th>\n",
       "      <th>WindGustKmph</th>\n",
       "      <th>cloudcover</th>\n",
       "      <th>humidity</th>\n",
       "      <th>precipMM</th>\n",
       "      <th>pressure</th>\n",
       "      <th>tempC</th>\n",
       "      <th>visibility</th>\n",
       "      <th>winddirDegree</th>\n",
       "      <th>windspeedKmph</th>\n",
       "    </tr>\n",
       "  </thead>\n",
       "  <tbody>\n",
       "    <tr>\n",
       "      <th>0</th>\n",
       "      <td>2016-01-01 00:00:00</td>\n",
       "      <td>-2</td>\n",
       "      <td>-9</td>\n",
       "      <td>0.0</td>\n",
       "      <td>8.7</td>\n",
       "      <td>1</td>\n",
       "      <td>0</td>\n",
       "      <td>50</td>\n",
       "      <td>12:36 AM</td>\n",
       "      <td>12:53 PM</td>\n",
       "      <td>...</td>\n",
       "      <td>-16</td>\n",
       "      <td>34</td>\n",
       "      <td>98</td>\n",
       "      <td>93</td>\n",
       "      <td>0.0</td>\n",
       "      <td>1030</td>\n",
       "      <td>-8</td>\n",
       "      <td>10</td>\n",
       "      <td>288</td>\n",
       "      <td>22</td>\n",
       "    </tr>\n",
       "    <tr>\n",
       "      <th>1</th>\n",
       "      <td>2016-01-01 03:00:00</td>\n",
       "      <td>-2</td>\n",
       "      <td>-9</td>\n",
       "      <td>0.0</td>\n",
       "      <td>8.7</td>\n",
       "      <td>1</td>\n",
       "      <td>0</td>\n",
       "      <td>50</td>\n",
       "      <td>12:36 AM</td>\n",
       "      <td>12:53 PM</td>\n",
       "      <td>...</td>\n",
       "      <td>-16</td>\n",
       "      <td>40</td>\n",
       "      <td>92</td>\n",
       "      <td>94</td>\n",
       "      <td>0.0</td>\n",
       "      <td>1029</td>\n",
       "      <td>-8</td>\n",
       "      <td>10</td>\n",
       "      <td>286</td>\n",
       "      <td>27</td>\n",
       "    </tr>\n",
       "    <tr>\n",
       "      <th>2</th>\n",
       "      <td>2016-01-01 06:00:00</td>\n",
       "      <td>-2</td>\n",
       "      <td>-9</td>\n",
       "      <td>0.0</td>\n",
       "      <td>8.7</td>\n",
       "      <td>1</td>\n",
       "      <td>0</td>\n",
       "      <td>50</td>\n",
       "      <td>12:36 AM</td>\n",
       "      <td>12:53 PM</td>\n",
       "      <td>...</td>\n",
       "      <td>-18</td>\n",
       "      <td>51</td>\n",
       "      <td>23</td>\n",
       "      <td>90</td>\n",
       "      <td>0.0</td>\n",
       "      <td>1028</td>\n",
       "      <td>-9</td>\n",
       "      <td>10</td>\n",
       "      <td>272</td>\n",
       "      <td>29</td>\n",
       "    </tr>\n",
       "    <tr>\n",
       "      <th>3</th>\n",
       "      <td>2016-01-01 09:00:00</td>\n",
       "      <td>-2</td>\n",
       "      <td>-9</td>\n",
       "      <td>0.0</td>\n",
       "      <td>8.7</td>\n",
       "      <td>1</td>\n",
       "      <td>2</td>\n",
       "      <td>50</td>\n",
       "      <td>12:36 AM</td>\n",
       "      <td>12:53 PM</td>\n",
       "      <td>...</td>\n",
       "      <td>-15</td>\n",
       "      <td>56</td>\n",
       "      <td>8</td>\n",
       "      <td>81</td>\n",
       "      <td>0.0</td>\n",
       "      <td>1026</td>\n",
       "      <td>-6</td>\n",
       "      <td>10</td>\n",
       "      <td>268</td>\n",
       "      <td>30</td>\n",
       "    </tr>\n",
       "    <tr>\n",
       "      <th>4</th>\n",
       "      <td>2016-01-01 12:00:00</td>\n",
       "      <td>-2</td>\n",
       "      <td>-9</td>\n",
       "      <td>0.0</td>\n",
       "      <td>8.7</td>\n",
       "      <td>1</td>\n",
       "      <td>2</td>\n",
       "      <td>50</td>\n",
       "      <td>12:36 AM</td>\n",
       "      <td>12:53 PM</td>\n",
       "      <td>...</td>\n",
       "      <td>-9</td>\n",
       "      <td>41</td>\n",
       "      <td>16</td>\n",
       "      <td>79</td>\n",
       "      <td>0.0</td>\n",
       "      <td>1024</td>\n",
       "      <td>-2</td>\n",
       "      <td>10</td>\n",
       "      <td>246</td>\n",
       "      <td>26</td>\n",
       "    </tr>\n",
       "  </tbody>\n",
       "</table>\n",
       "<p>5 rows × 25 columns</p>\n",
       "</div>"
      ],
      "text/plain": [
       "            date_time maxtempC mintempC totalSnow_cm sunHour uvIndex uvIndex  \\\n",
       "0 2016-01-01 00:00:00       -2       -9          0.0     8.7       1       0   \n",
       "1 2016-01-01 03:00:00       -2       -9          0.0     8.7       1       0   \n",
       "2 2016-01-01 06:00:00       -2       -9          0.0     8.7       1       0   \n",
       "3 2016-01-01 09:00:00       -2       -9          0.0     8.7       1       2   \n",
       "4 2016-01-01 12:00:00       -2       -9          0.0     8.7       1       2   \n",
       "\n",
       "  moon_illumination  moonrise   moonset  ... WindChillC WindGustKmph  \\\n",
       "0                50  12:36 AM  12:53 PM  ...        -16           34   \n",
       "1                50  12:36 AM  12:53 PM  ...        -16           40   \n",
       "2                50  12:36 AM  12:53 PM  ...        -18           51   \n",
       "3                50  12:36 AM  12:53 PM  ...        -15           56   \n",
       "4                50  12:36 AM  12:53 PM  ...         -9           41   \n",
       "\n",
       "  cloudcover humidity precipMM pressure tempC visibility winddirDegree  \\\n",
       "0         98       93      0.0     1030    -8         10           288   \n",
       "1         92       94      0.0     1029    -8         10           286   \n",
       "2         23       90      0.0     1028    -9         10           272   \n",
       "3          8       81      0.0     1026    -6         10           268   \n",
       "4         16       79      0.0     1024    -2         10           246   \n",
       "\n",
       "  windspeedKmph  \n",
       "0            22  \n",
       "1            27  \n",
       "2            29  \n",
       "3            30  \n",
       "4            26  \n",
       "\n",
       "[5 rows x 25 columns]"
      ]
     },
     "execution_count": 5,
     "metadata": {},
     "output_type": "execute_result"
    }
   ],
   "source": [
    "weather_data.head()"
   ]
  },
  {
   "cell_type": "code",
   "execution_count": 6,
   "metadata": {},
   "outputs": [
    {
     "data": {
      "text/html": [
       "<div>\n",
       "<style scoped>\n",
       "    .dataframe tbody tr th:only-of-type {\n",
       "        vertical-align: middle;\n",
       "    }\n",
       "\n",
       "    .dataframe tbody tr th {\n",
       "        vertical-align: top;\n",
       "    }\n",
       "\n",
       "    .dataframe thead th {\n",
       "        text-align: right;\n",
       "    }\n",
       "</style>\n",
       "<table border=\"1\" class=\"dataframe\">\n",
       "  <thead>\n",
       "    <tr style=\"text-align: right;\">\n",
       "      <th></th>\n",
       "      <th>date_time</th>\n",
       "      <th>precipMM</th>\n",
       "      <th>tempC</th>\n",
       "    </tr>\n",
       "  </thead>\n",
       "  <tbody>\n",
       "    <tr>\n",
       "      <th>0</th>\n",
       "      <td>2016-01-01 00:00:00</td>\n",
       "      <td>0.0</td>\n",
       "      <td>-8</td>\n",
       "    </tr>\n",
       "    <tr>\n",
       "      <th>1</th>\n",
       "      <td>2016-01-01 03:00:00</td>\n",
       "      <td>0.0</td>\n",
       "      <td>-8</td>\n",
       "    </tr>\n",
       "    <tr>\n",
       "      <th>2</th>\n",
       "      <td>2016-01-01 06:00:00</td>\n",
       "      <td>0.0</td>\n",
       "      <td>-9</td>\n",
       "    </tr>\n",
       "    <tr>\n",
       "      <th>3</th>\n",
       "      <td>2016-01-01 09:00:00</td>\n",
       "      <td>0.0</td>\n",
       "      <td>-6</td>\n",
       "    </tr>\n",
       "    <tr>\n",
       "      <th>4</th>\n",
       "      <td>2016-01-01 12:00:00</td>\n",
       "      <td>0.0</td>\n",
       "      <td>-2</td>\n",
       "    </tr>\n",
       "  </tbody>\n",
       "</table>\n",
       "</div>"
      ],
      "text/plain": [
       "            date_time precipMM tempC\n",
       "0 2016-01-01 00:00:00      0.0    -8\n",
       "1 2016-01-01 03:00:00      0.0    -8\n",
       "2 2016-01-01 06:00:00      0.0    -9\n",
       "3 2016-01-01 09:00:00      0.0    -6\n",
       "4 2016-01-01 12:00:00      0.0    -2"
      ]
     },
     "execution_count": 6,
     "metadata": {},
     "output_type": "execute_result"
    }
   ],
   "source": [
    "ppt =  weather_data [['date_time','precipMM','tempC']]\n",
    "ppt.head()"
   ]
  },
  {
   "cell_type": "code",
   "execution_count": 7,
   "metadata": {},
   "outputs": [],
   "source": [
    "# separate date and time so that daily average can be calculated using \"groupby\"\n",
    "ppt['Date']= ppt['date_time'].dt.date"
   ]
  },
  {
   "cell_type": "code",
   "execution_count": 8,
   "metadata": {},
   "outputs": [
    {
     "name": "stdout",
     "output_type": "stream",
     "text": [
      "            date_time precipMM tempC        Date\n",
      "0 2016-01-01 00:00:00      0.0    -8  2016-01-01\n",
      "1 2016-01-01 03:00:00      0.0    -8  2016-01-01\n",
      "2 2016-01-01 06:00:00      0.0    -9  2016-01-01\n",
      "3 2016-01-01 09:00:00      0.0    -6  2016-01-01\n",
      "4 2016-01-01 12:00:00      0.0    -2  2016-01-01\n",
      "date_time    datetime64[ns]\n",
      "precipMM             object\n",
      "tempC                object\n",
      "Date                 object\n",
      "dtype: object\n"
     ]
    }
   ],
   "source": [
    "print(ppt.head())\n",
    "print(ppt.dtypes)"
   ]
  },
  {
   "cell_type": "code",
   "execution_count": 9,
   "metadata": {},
   "outputs": [],
   "source": [
    "# converting precip and temperature values from object to string then to interger/float\n",
    "ppt['Date'] = pd.to_datetime(ppt['Date'])\n",
    "ppt['precipMM'] = ppt['precipMM'].astype(float)\n",
    "ppt['tempC'] = ppt['tempC'].astype(str).astype(int)"
   ]
  },
  {
   "cell_type": "code",
   "execution_count": 10,
   "metadata": {},
   "outputs": [
    {
     "name": "stdout",
     "output_type": "stream",
     "text": [
      "            precipMM   tempC\n",
      "Date                        \n",
      "2016-01-01       0.0  -5.750\n",
      "2016-01-02       0.0  -6.000\n",
      "2016-01-03       0.1  -6.625\n",
      "2016-01-04       0.1 -10.125\n",
      "2016-01-05       0.0  -4.875\n",
      "precipMM    float64\n",
      "tempC       float64\n",
      "dtype: object\n"
     ]
    }
   ],
   "source": [
    "# calculate daily cumulative precip and average temp\n",
    "daily_ppt = ppt.groupby('Date').agg({'precipMM':'sum', 'tempC':'mean'})\n",
    "print(daily_ppt.head())\n",
    "print(daily_ppt.dtypes)"
   ]
  },
  {
   "cell_type": "code",
   "execution_count": 11,
   "metadata": {},
   "outputs": [],
   "source": [
    "# exporting daily ppt file as csv \n",
    "\n",
    "export_ppt = daily_ppt.to_csv('BHL_weather_data.csv', index=True)"
   ]
  },
  {
   "cell_type": "code",
   "execution_count": 12,
   "metadata": {},
   "outputs": [
    {
     "data": {
      "text/html": [
       "<div>\n",
       "<style scoped>\n",
       "    .dataframe tbody tr th:only-of-type {\n",
       "        vertical-align: middle;\n",
       "    }\n",
       "\n",
       "    .dataframe tbody tr th {\n",
       "        vertical-align: top;\n",
       "    }\n",
       "\n",
       "    .dataframe thead th {\n",
       "        text-align: right;\n",
       "    }\n",
       "</style>\n",
       "<table border=\"1\" class=\"dataframe\">\n",
       "  <thead>\n",
       "    <tr style=\"text-align: right;\">\n",
       "      <th></th>\n",
       "      <th>Date</th>\n",
       "      <th>precipMM</th>\n",
       "      <th>tempC</th>\n",
       "      <th>year</th>\n",
       "      <th>month</th>\n",
       "    </tr>\n",
       "  </thead>\n",
       "  <tbody>\n",
       "    <tr>\n",
       "      <th>1091</th>\n",
       "      <td>2018-12-27</td>\n",
       "      <td>5.6</td>\n",
       "      <td>3.750</td>\n",
       "      <td>2018</td>\n",
       "      <td>12</td>\n",
       "    </tr>\n",
       "    <tr>\n",
       "      <th>1092</th>\n",
       "      <td>2018-12-28</td>\n",
       "      <td>0.4</td>\n",
       "      <td>-8.500</td>\n",
       "      <td>2018</td>\n",
       "      <td>12</td>\n",
       "    </tr>\n",
       "    <tr>\n",
       "      <th>1093</th>\n",
       "      <td>2018-12-29</td>\n",
       "      <td>0.0</td>\n",
       "      <td>-11.375</td>\n",
       "      <td>2018</td>\n",
       "      <td>12</td>\n",
       "    </tr>\n",
       "    <tr>\n",
       "      <th>1094</th>\n",
       "      <td>2018-12-30</td>\n",
       "      <td>0.0</td>\n",
       "      <td>-2.750</td>\n",
       "      <td>2018</td>\n",
       "      <td>12</td>\n",
       "    </tr>\n",
       "    <tr>\n",
       "      <th>1095</th>\n",
       "      <td>2018-12-31</td>\n",
       "      <td>0.2</td>\n",
       "      <td>-3.000</td>\n",
       "      <td>2018</td>\n",
       "      <td>12</td>\n",
       "    </tr>\n",
       "  </tbody>\n",
       "</table>\n",
       "</div>"
      ],
      "text/plain": [
       "           Date  precipMM   tempC  year  month\n",
       "1091 2018-12-27       5.6   3.750  2018     12\n",
       "1092 2018-12-28       0.4  -8.500  2018     12\n",
       "1093 2018-12-29       0.0 -11.375  2018     12\n",
       "1094 2018-12-30       0.0  -2.750  2018     12\n",
       "1095 2018-12-31       0.2  -3.000  2018     12"
      ]
     },
     "execution_count": 12,
     "metadata": {},
     "output_type": "execute_result"
    }
   ],
   "source": [
    "# convert Date index into column\n",
    "\n",
    "daily_ppt.reset_index(level=0, inplace=True)\n",
    "daily_ppt ['year'] = pd.DatetimeIndex(daily_ppt['Date']).year\n",
    "daily_ppt ['month'] = pd.DatetimeIndex(daily_ppt['Date']).month\n",
    "\n",
    "daily_ppt.tail()"
   ]
  },
  {
   "cell_type": "markdown",
   "metadata": {},
   "source": [
    "## Objective 2\n",
    "Plot daily precipitation depth for each monitoring year (2016-2018)"
   ]
  },
  {
   "cell_type": "code",
   "execution_count": 13,
   "metadata": {},
   "outputs": [],
   "source": [
    "# split the dataset based on year\n",
    "gbl = globals()\n",
    "\n",
    "startyear = startdate.year\n",
    "endyear = enddate.year\n",
    "years = list(range(startyear, endyear+1))\n",
    "\n",
    "for curr_year in years:\n",
    "    year_name = str(curr_year)\n",
    "    gbl['ppt_'+year_name] = daily_ppt[daily_ppt['year'] == curr_year]\n",
    "    # the dataframe for each year can be called using 'ppt_YYYY'           "
   ]
  },
  {
   "cell_type": "code",
   "execution_count": 14,
   "metadata": {},
   "outputs": [
    {
     "data": {
      "text/html": [
       "<div>\n",
       "<style scoped>\n",
       "    .dataframe tbody tr th:only-of-type {\n",
       "        vertical-align: middle;\n",
       "    }\n",
       "\n",
       "    .dataframe tbody tr th {\n",
       "        vertical-align: top;\n",
       "    }\n",
       "\n",
       "    .dataframe thead th {\n",
       "        text-align: right;\n",
       "    }\n",
       "</style>\n",
       "<table border=\"1\" class=\"dataframe\">\n",
       "  <thead>\n",
       "    <tr style=\"text-align: right;\">\n",
       "      <th></th>\n",
       "      <th>Date</th>\n",
       "      <th>precipMM</th>\n",
       "      <th>tempC</th>\n",
       "      <th>year</th>\n",
       "      <th>month</th>\n",
       "    </tr>\n",
       "  </thead>\n",
       "  <tbody>\n",
       "    <tr>\n",
       "      <th>731</th>\n",
       "      <td>2018-01-01</td>\n",
       "      <td>0.0</td>\n",
       "      <td>-27.000</td>\n",
       "      <td>2018</td>\n",
       "      <td>1</td>\n",
       "    </tr>\n",
       "    <tr>\n",
       "      <th>732</th>\n",
       "      <td>2018-01-02</td>\n",
       "      <td>0.0</td>\n",
       "      <td>-18.000</td>\n",
       "      <td>2018</td>\n",
       "      <td>1</td>\n",
       "    </tr>\n",
       "    <tr>\n",
       "      <th>733</th>\n",
       "      <td>2018-01-03</td>\n",
       "      <td>0.0</td>\n",
       "      <td>-16.375</td>\n",
       "      <td>2018</td>\n",
       "      <td>1</td>\n",
       "    </tr>\n",
       "    <tr>\n",
       "      <th>734</th>\n",
       "      <td>2018-01-04</td>\n",
       "      <td>0.1</td>\n",
       "      <td>-18.500</td>\n",
       "      <td>2018</td>\n",
       "      <td>1</td>\n",
       "    </tr>\n",
       "    <tr>\n",
       "      <th>735</th>\n",
       "      <td>2018-01-05</td>\n",
       "      <td>0.0</td>\n",
       "      <td>-17.875</td>\n",
       "      <td>2018</td>\n",
       "      <td>1</td>\n",
       "    </tr>\n",
       "  </tbody>\n",
       "</table>\n",
       "</div>"
      ],
      "text/plain": [
       "          Date  precipMM   tempC  year  month\n",
       "731 2018-01-01       0.0 -27.000  2018      1\n",
       "732 2018-01-02       0.0 -18.000  2018      1\n",
       "733 2018-01-03       0.0 -16.375  2018      1\n",
       "734 2018-01-04       0.1 -18.500  2018      1\n",
       "735 2018-01-05       0.0 -17.875  2018      1"
      ]
     },
     "execution_count": 14,
     "metadata": {},
     "output_type": "execute_result"
    }
   ],
   "source": [
    "# test calling 2018 dataframe using 'ppt_YYYY'\n",
    "\n",
    "ppt_2018.head()"
   ]
  },
  {
   "cell_type": "code",
   "execution_count": 17,
   "metadata": {},
   "outputs": [
    {
     "name": "stdout",
     "output_type": "stream",
     "text": [
      "['check_0', 'check_1', 'check_2', 'check_3', 'check_4', 'check_5', 'check_6', 'check_7', 'check_8', 'check_9']\n"
     ]
    }
   ],
   "source": [
    "# example code from Adina on how to create a list with two-part name e.g. \"ppt_\" + \"YYYY\"\n",
    "# Adina suggested to use nested loop i.e. a loop to create a variable list, then another loop to process the data\n",
    "\n",
    "# example colde to create variable list\n",
    "index_base = \"check\"\n",
    "variable_list = []\n",
    "for x in range(0, 10):\n",
    "    new_name = index_base + '_' + str(x)\n",
    "    variable_list.append(new_name)\n",
    "print(variable_list)\n",
    "\n",
    "# example code to process data\n",
    "#counter = 0\n",
    "#assignment_var = variable_list[counter]\n",
    "#counter = counter + 1 "
   ]
  },
  {
   "cell_type": "code",
   "execution_count": 19,
   "metadata": {},
   "outputs": [
    {
     "data": {
      "image/png": "[encoded data removed]",
      "text/plain": [
       "<Figure size 432x288 with 1 Axes>"
      ]
     },
     "metadata": {
      "needs_background": "light"
     },
     "output_type": "display_data"
    },
    {
     "data": {
      "image/png": "[encoded data removed]",
      "text/plain": [
       "<Figure size 432x288 with 1 Axes>"
      ]
     },
     "metadata": {
      "needs_background": "light"
     },
     "output_type": "display_data"
    },
    {
     "data": {
      "image/png": "[encoded data removed]",
      "text/plain": [
       "<Figure size 432x288 with 1 Axes>"
      ]
     },
     "metadata": {
      "needs_background": "light"
     },
     "output_type": "display_data"
    }
   ],
   "source": [
    "import matplotlib.pyplot as plt\n",
    "\n",
    "# extract day of year from Date, then plot time series daily ppt\n",
    "monitoring_years = (ppt_2016, ppt_2017, ppt_2018) # same comment as above, would like to automate this naming\n",
    "startyear = startdate.year\n",
    "\n",
    "for df in (monitoring_years):\n",
    "    df['Day_of_year'] = df['Date'].dt.dayofyear\n",
    "    plt.plot(df['Day_of_year'], df['precipMM'])\n",
    "    plt.title(startyear)\n",
    "    plt.xlabel('Day of the year')\n",
    "    plt.ylabel('PPT (mm)')\n",
    "    plt.axis([0, 366, 0, 35])\n",
    "    plt.show()\n",
    "    startyear = startyear + 1"
   ]
  },
  {
   "cell_type": "markdown",
   "metadata": {},
   "source": [
    "## Objective 3\n",
    "Calculate and plot monthly cumulative precipitation depth"
   ]
  },
  {
   "cell_type": "code",
   "execution_count": 20,
   "metadata": {},
   "outputs": [
    {
     "data": {
      "image/png": "[encoded data removed]",
      "text/plain": [
       "<Figure size 565.375x504 with 1 Axes>"
      ]
     },
     "metadata": {
      "needs_background": "light"
     },
     "output_type": "display_data"
    }
   ],
   "source": [
    "import seaborn as sns\n",
    "\n",
    "monthly_precip = pd.DataFrame(daily_ppt.groupby(['year','month']).sum()['precipMM'])\n",
    "monthly_precip.reset_index(inplace=True)\n",
    "monthly_plot = sns.catplot(x=\"month\", y=\"precipMM\", hue=\"year\", data=monthly_precip, height=7, kind=\"bar\", palette=\"muted\")\n",
    "plt.ylim(0,90)\n",
    "plt.xlabel('Month of the year')\n",
    "plt.ylabel('Monthly cumulative precipitation (mm)')\n",
    "plt.show()"
   ]
  },
  {
   "cell_type": "markdown",
   "metadata": {},
   "source": [
    "## Objective 4\n",
    "Calculate and plot annual cumulative precipitation depth"
   ]
  },
  {
   "cell_type": "code",
   "execution_count": 21,
   "metadata": {},
   "outputs": [],
   "source": [
    "# calculating cumulative precip\n",
    "monitoring_years = (ppt_2016, ppt_2017, ppt_2018) \n",
    "# Ideally, I want to use the loop to replace the script (manually inserted dataframe names) above but I couldn't get it to work \n",
    "# It should look something like 'ppt_'& YYYY (i.e. calling dataframes with two parts name fixedname+numericalname)\n",
    "\n",
    "for df in (monitoring_years):\n",
    "    df['cum_precipMM'] = df['precipMM'].cumsum()"
   ]
  },
  {
   "cell_type": "code",
   "execution_count": 22,
   "metadata": {},
   "outputs": [
    {
     "name": "stdout",
     "output_type": "stream",
     "text": [
      "          Date  precipMM  tempC  year  month  Day_of_year  cum_precipMM\n",
      "361 2016-12-27       0.0 -2.000  2016     12          362         287.6\n",
      "362 2016-12-28       0.0  1.375  2016     12          363         287.6\n",
      "363 2016-12-29       0.0 -0.250  2016     12          364         287.6\n",
      "364 2016-12-30       0.0  0.250  2016     12          365         287.6\n",
      "365 2016-12-31       0.0 -1.625  2016     12          366         287.6\n",
      "          Date  precipMM   tempC  year  month  Day_of_year  cum_precipMM\n",
      "726 2017-12-27       0.5 -18.250  2017     12          361         219.4\n",
      "727 2017-12-28       0.1 -13.000  2017     12          362         219.5\n",
      "728 2017-12-29       0.5 -13.750  2017     12          363         220.0\n",
      "729 2017-12-30       0.0 -21.125  2017     12          364         220.0\n",
      "730 2017-12-31       0.1 -25.500  2017     12          365         220.1\n",
      "           Date  precipMM   tempC  year  month  Day_of_year  cum_precipMM\n",
      "1091 2018-12-27       5.6   3.750  2018     12          361         379.9\n",
      "1092 2018-12-28       0.4  -8.500  2018     12          362         380.3\n",
      "1093 2018-12-29       0.0 -11.375  2018     12          363         380.3\n",
      "1094 2018-12-30       0.0  -2.750  2018     12          364         380.3\n",
      "1095 2018-12-31       0.2  -3.000  2018     12          365         380.5\n"
     ]
    }
   ],
   "source": [
    "print(ppt_2016.tail())\n",
    "print(ppt_2017.tail())\n",
    "print(ppt_2018.tail())"
   ]
  },
  {
   "cell_type": "code",
   "execution_count": 23,
   "metadata": {},
   "outputs": [
    {
     "data": {
      "image/png": "[encoded data removed]",
      "text/plain": [
       "<Figure size 432x288 with 1 Axes>"
      ]
     },
     "metadata": {
      "needs_background": "light"
     },
     "output_type": "display_data"
    }
   ],
   "source": [
    "# cumulative precip plot\n",
    "startyear = startdate.year\n",
    "\n",
    "for df in (monitoring_years):\n",
    "    plt.plot(df['Day_of_year'], df['cum_precipMM'], label = startyear)\n",
    "    startyear = startyear +1\n",
    "\n",
    "plt.rcParams[\"figure.figsize\"] = (10,8) \n",
    "plt.legend()\n",
    "plt.axis([0, 366, 0, 400])\n",
    "plt.xlabel('Day of the year')\n",
    "plt.ylabel('Cumulative precipitation (mm)')\n",
    "plt.show()    "
   ]
  },
  {
   "cell_type": "markdown",
   "metadata": {},
   "source": [
    "## Objective 5\n",
    "Compare the precipitation depths between the monitoring years"
   ]
  },
  {
   "cell_type": "markdown",
   "metadata": {},
   "source": [
    "Discussion: <br>\n",
    "1) The time-series daily precipitation plots showed the precipitation pattern and distribution throughout the year. The precipitation pattern (especially the largest storms) can be compared with nutrient data to determine if storm events increased the nutrient export concentrations and loads. An alternative way to present the plots is to use \"month\" on the x-axis instead of \"day of the year\". <br>\n",
    "2) In relative to other months of the year, May through September received the highest amount of precipitation except for July. The nutrient export pattern also may depends on the timing of fertilizer application and crop planting, where April to May are likely to experience greater runoff from precipitation events. <br>\n",
    "3) 2018 received the highest precipitation depth, and followed by 2016 and 2017. <br>"
   ]
  },
  {
   "cell_type": "code",
   "execution_count": null,
   "metadata": {},
   "outputs": [],
   "source": []
  }
 ],
 "metadata": {
  "kernelspec": {
   "display_name": "Python 3",
   "language": "python",
   "name": "python3"
  },
  "language_info": {
   "codemirror_mode": {
    "name": "ipython",
    "version": 3
   },
   "file_extension": ".py",
   "mimetype": "text/x-python",
   "name": "python",
   "nbconvert_exporter": "python",
   "pygments_lexer": "ipython3",
   "version": "3.7.3"
  }
 },
 "nbformat": 4,
 "nbformat_minor": 2
}
