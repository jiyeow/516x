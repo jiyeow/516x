{
 "cells": [
  {
   "cell_type": "markdown",
   "metadata": {},
   "source": [
    "## Linear Regression Assignment\n",
    "In a watershed monitoring project, automated samplers are often used to collect water samples. However, these automated samplers may fail from time to time due to various instrumentation issues, such as power failure and damaged instruments. When the automated sampler failed to collect water samples, it leaves a data gap from a certain period of time. <br> \n",
    "\n",
    "Base flow nutrient concentration data are often linearly interpolated (or sometimes extrapolated) using nutrient data of the last and next sample collected. This approach cannot be applied to event flow nutrient and sediment (hereinafter refer as nutrient) data, especially phosphorus (P) and sediment (TSS), because of the large variations in nutrient concentration that can be caused by flow. <br>\n",
    "\n",
    "The objectived of this task are to: <br>\n",
    "1) develop a suitable model using existing dissolved reactive P (DRP), total P (TP), and TSS <br>\n",
    "2) predict the missing DRP, TP, TSS data using the model developed in (1)"
   ]
  },
  {
   "cell_type": "code",
   "execution_count": 99,
   "metadata": {},
   "outputs": [],
   "source": [
    "import pandas as pd\n",
    "import numpy as np\n",
    "import seaborn as sns\n",
    "import statsmodels.formula.api as smf\n",
    "import matplotlib.pyplot as plt\n",
    "from scipy import stats\n"
   ]
  },
  {
   "cell_type": "code",
   "execution_count": 21,
   "metadata": {},
   "outputs": [
    {
     "data": {
      "text/html": [
       "<div>\n",
       "<style scoped>\n",
       "    .dataframe tbody tr th:only-of-type {\n",
       "        vertical-align: middle;\n",
       "    }\n",
       "\n",
       "    .dataframe tbody tr th {\n",
       "        vertical-align: top;\n",
       "    }\n",
       "\n",
       "    .dataframe thead th {\n",
       "        text-align: right;\n",
       "    }\n",
       "</style>\n",
       "<table border=\"1\" class=\"dataframe\">\n",
       "  <thead>\n",
       "    <tr style=\"text-align: right;\">\n",
       "      <th></th>\n",
       "      <th>Sample date</th>\n",
       "      <th>Site</th>\n",
       "      <th>Flow (cms)</th>\n",
       "      <th>DRP (mg P/L)</th>\n",
       "      <th>TP (mg P/L)</th>\n",
       "      <th>TSS (mg/L)</th>\n",
       "      <th>VSS (mg/L)</th>\n",
       "    </tr>\n",
       "  </thead>\n",
       "  <tbody>\n",
       "    <tr>\n",
       "      <th>0</th>\n",
       "      <td>2015-05-19</td>\n",
       "      <td>S11</td>\n",
       "      <td>0.028210</td>\n",
       "      <td>0.018</td>\n",
       "      <td>0.0015</td>\n",
       "      <td>22.333667</td>\n",
       "      <td>19.264296</td>\n",
       "    </tr>\n",
       "    <tr>\n",
       "      <th>1</th>\n",
       "      <td>2015-06-16</td>\n",
       "      <td>S11</td>\n",
       "      <td>0.189993</td>\n",
       "      <td>0.027</td>\n",
       "      <td>0.1770</td>\n",
       "      <td>1006.666667</td>\n",
       "      <td>892.000000</td>\n",
       "    </tr>\n",
       "    <tr>\n",
       "      <th>2</th>\n",
       "      <td>2015-06-30</td>\n",
       "      <td>S11</td>\n",
       "      <td>1.296460</td>\n",
       "      <td>0.203</td>\n",
       "      <td>1.2590</td>\n",
       "      <td>1338.666667</td>\n",
       "      <td>1194.666667</td>\n",
       "    </tr>\n",
       "    <tr>\n",
       "      <th>3</th>\n",
       "      <td>2015-08-18</td>\n",
       "      <td>S11</td>\n",
       "      <td>0.131722</td>\n",
       "      <td>0.050</td>\n",
       "      <td>1.3280</td>\n",
       "      <td>2026.000000</td>\n",
       "      <td>1812.000000</td>\n",
       "    </tr>\n",
       "    <tr>\n",
       "      <th>4</th>\n",
       "      <td>2015-08-25</td>\n",
       "      <td>S11</td>\n",
       "      <td>0.120204</td>\n",
       "      <td>0.010</td>\n",
       "      <td>3.1180</td>\n",
       "      <td>1722.000000</td>\n",
       "      <td>1560.000000</td>\n",
       "    </tr>\n",
       "  </tbody>\n",
       "</table>\n",
       "</div>"
      ],
      "text/plain": [
       "  Sample date Site  Flow (cms)  DRP (mg P/L)  TP (mg P/L)   TSS (mg/L)  \\\n",
       "0  2015-05-19  S11    0.028210         0.018       0.0015    22.333667   \n",
       "1  2015-06-16  S11    0.189993         0.027       0.1770  1006.666667   \n",
       "2  2015-06-30  S11    1.296460         0.203       1.2590  1338.666667   \n",
       "3  2015-08-18  S11    0.131722         0.050       1.3280  2026.000000   \n",
       "4  2015-08-25  S11    0.120204         0.010       3.1180  1722.000000   \n",
       "\n",
       "    VSS (mg/L)  \n",
       "0    19.264296  \n",
       "1   892.000000  \n",
       "2  1194.666667  \n",
       "3  1812.000000  \n",
       "4  1560.000000  "
      ]
     },
     "execution_count": 21,
     "metadata": {},
     "output_type": "execute_result"
    }
   ],
   "source": [
    "# import data from excel\n",
    "data = pd.read_excel('JY_linear_reg_data.xlsx', sheet_name = 'Data')\n",
    "data.head()"
   ]
  },
  {
   "cell_type": "code",
   "execution_count": 22,
   "metadata": {},
   "outputs": [
    {
     "data": {
      "text/html": [
       "<div>\n",
       "<style scoped>\n",
       "    .dataframe tbody tr th:only-of-type {\n",
       "        vertical-align: middle;\n",
       "    }\n",
       "\n",
       "    .dataframe tbody tr th {\n",
       "        vertical-align: top;\n",
       "    }\n",
       "\n",
       "    .dataframe thead th {\n",
       "        text-align: right;\n",
       "    }\n",
       "</style>\n",
       "<table border=\"1\" class=\"dataframe\">\n",
       "  <thead>\n",
       "    <tr style=\"text-align: right;\">\n",
       "      <th></th>\n",
       "      <th>Date</th>\n",
       "      <th>Site</th>\n",
       "      <th>Flow</th>\n",
       "      <th>DRP</th>\n",
       "      <th>TP</th>\n",
       "      <th>TSS</th>\n",
       "    </tr>\n",
       "  </thead>\n",
       "  <tbody>\n",
       "    <tr>\n",
       "      <th>0</th>\n",
       "      <td>2015-05-19</td>\n",
       "      <td>S11</td>\n",
       "      <td>0.028210</td>\n",
       "      <td>0.018</td>\n",
       "      <td>0.0015</td>\n",
       "      <td>22.333667</td>\n",
       "    </tr>\n",
       "    <tr>\n",
       "      <th>1</th>\n",
       "      <td>2015-06-16</td>\n",
       "      <td>S11</td>\n",
       "      <td>0.189993</td>\n",
       "      <td>0.027</td>\n",
       "      <td>0.1770</td>\n",
       "      <td>1006.666667</td>\n",
       "    </tr>\n",
       "    <tr>\n",
       "      <th>2</th>\n",
       "      <td>2015-06-30</td>\n",
       "      <td>S11</td>\n",
       "      <td>1.296460</td>\n",
       "      <td>0.203</td>\n",
       "      <td>1.2590</td>\n",
       "      <td>1338.666667</td>\n",
       "    </tr>\n",
       "    <tr>\n",
       "      <th>3</th>\n",
       "      <td>2015-08-18</td>\n",
       "      <td>S11</td>\n",
       "      <td>0.131722</td>\n",
       "      <td>0.050</td>\n",
       "      <td>1.3280</td>\n",
       "      <td>2026.000000</td>\n",
       "    </tr>\n",
       "    <tr>\n",
       "      <th>4</th>\n",
       "      <td>2015-08-25</td>\n",
       "      <td>S11</td>\n",
       "      <td>0.120204</td>\n",
       "      <td>0.010</td>\n",
       "      <td>3.1180</td>\n",
       "      <td>1722.000000</td>\n",
       "    </tr>\n",
       "  </tbody>\n",
       "</table>\n",
       "</div>"
      ],
      "text/plain": [
       "        Date Site      Flow    DRP      TP          TSS\n",
       "0 2015-05-19  S11  0.028210  0.018  0.0015    22.333667\n",
       "1 2015-06-16  S11  0.189993  0.027  0.1770  1006.666667\n",
       "2 2015-06-30  S11  1.296460  0.203  1.2590  1338.666667\n",
       "3 2015-08-18  S11  0.131722  0.050  1.3280  2026.000000\n",
       "4 2015-08-25  S11  0.120204  0.010  3.1180  1722.000000"
      ]
     },
     "execution_count": 22,
     "metadata": {},
     "output_type": "execute_result"
    }
   ],
   "source": [
    "# drop 'VSS' column, rename the columns into shorter names\n",
    "\n",
    "data = data.drop(columns=['VSS (mg/L)'])\n",
    "data = data.rename(columns={'Sample date': 'Date', 'Flow (cms)':'Flow', 'DRP (mg P/L)':'DRP', 'TP (mg P/L)':'TP', 'TSS (mg/L)':'TSS'})\n",
    "data.head()"
   ]
  },
  {
   "cell_type": "code",
   "execution_count": 117,
   "metadata": {},
   "outputs": [
    {
     "name": "stdout",
     "output_type": "stream",
     "text": [
      "         Date Site      Flow    DRP     TP         TSS\n",
      "24 2018-09-11  S11  0.120500  0.052  0.338  363.333333\n",
      "25 2018-09-11  S11  0.115396  0.014  0.498  162.000000\n",
      "26 2018-09-26  S11  0.085015  0.010  0.293  474.500000\n",
      "27 2018-10-11  S11  0.113744  0.047  0.190  148.000000\n",
      "28 2018-10-11  S11  0.156634    NaN    NaN         NaN\n",
      "         Date Site      Flow    DRP     TP        TSS\n",
      "60 2018-08-31  S12  0.028923    NaN    NaN        NaN\n",
      "61 2018-09-06  S12  0.024730    NaN    NaN        NaN\n",
      "62 2018-09-26  S12  0.022594    NaN    NaN        NaN\n",
      "63 2018-10-11  S12  0.024522  0.001  0.042  11.666667\n",
      "64 2018-10-11  S12  0.044039  0.003  0.040  20.333333\n"
     ]
    }
   ],
   "source": [
    "data_11 = data[data['Site'] == 'S11']\n",
    "data_12 = data[data['Site'] == 'S12']\n",
    "print(data_11.tail())\n",
    "print(data_12.tail())"
   ]
  },
  {
   "cell_type": "code",
   "execution_count": 43,
   "metadata": {},
   "outputs": [
    {
     "name": "stdout",
     "output_type": "stream",
     "text": [
      "S11\n",
      "Date    0\n",
      "Site    0\n",
      "Flow    0\n",
      "DRP     3\n",
      "TP      3\n",
      "TSS     3\n",
      "dtype: int64\n",
      "S12\n",
      "Date    0\n",
      "Site    0\n",
      "Flow    0\n",
      "DRP     4\n",
      "TP      4\n",
      "TSS     4\n",
      "dtype: int64\n"
     ]
    }
   ],
   "source": [
    "# check the number of null values\n",
    "print('S11')\n",
    "print(data_11.isnull().sum())\n",
    "print('S12')\n",
    "print(data_12.isnull().sum())"
   ]
  },
  {
   "cell_type": "code",
   "execution_count": 47,
   "metadata": {},
   "outputs": [
    {
     "name": "stdout",
     "output_type": "stream",
     "text": [
      "S11\n",
      "         Date Site      Flow  DRP  TP  TSS\n",
      "21 2018-06-22  S11  0.103414  NaN NaN  NaN\n",
      "22 2018-06-27  S11  0.189099  NaN NaN  NaN\n",
      "28 2018-10-11  S11  0.156634  NaN NaN  NaN\n",
      "S12\n",
      "         Date Site      Flow  DRP  TP  TSS\n",
      "59 2018-08-21  S12  0.128687  NaN NaN  NaN\n",
      "60 2018-08-31  S12  0.028923  NaN NaN  NaN\n",
      "61 2018-09-06  S12  0.024730  NaN NaN  NaN\n",
      "62 2018-09-26  S12  0.022594  NaN NaN  NaN\n"
     ]
    }
   ],
   "source": [
    "# create separate dataframe that only contain null values\n",
    "data_11_null = data_11[data_11.isnull().any(axis=1)]\n",
    "data_12_null = data_12[data_12.isnull().any(axis=1)]\n",
    "print('S11')\n",
    "print(data_11_null)\n",
    "print('S12')\n",
    "print(data_12_null)"
   ]
  },
  {
   "cell_type": "code",
   "execution_count": 195,
   "metadata": {},
   "outputs": [
    {
     "name": "stdout",
     "output_type": "stream",
     "text": [
      "S11\n",
      "Date    0\n",
      "Site    0\n",
      "Flow    0\n",
      "DRP     0\n",
      "TP      0\n",
      "TSS     0\n",
      "dtype: int64\n",
      "S12\n",
      "Date    0\n",
      "Site    0\n",
      "Flow    0\n",
      "DRP     0\n",
      "TP      0\n",
      "TSS     0\n",
      "dtype: int64\n"
     ]
    }
   ],
   "source": [
    "# drop the null values \n",
    "data_11 = data_11.dropna()\n",
    "data_12 = data_12.dropna()\n",
    "print('S11')\n",
    "print(data_11.isnull().sum())\n",
    "print('S12')\n",
    "print(data_12.isnull().sum())"
   ]
  },
  {
   "cell_type": "code",
   "execution_count": 50,
   "metadata": {},
   "outputs": [
    {
     "data": {
      "text/plain": [
       "<seaborn.axisgrid.PairGrid at 0x175d4795240>"
      ]
     },
     "execution_count": 50,
     "metadata": {},
     "output_type": "execute_result"
    },
    {
     "data": {
      "image/png": "[encoded data removed]",
      "text/plain": [
       "<Figure size 907.2x432 with 3 Axes>"
      ]
     },
     "metadata": {
      "needs_background": "light"
     },
     "output_type": "display_data"
    },
    {
     "data": {
      "image/png": "[encoded data removed]",
      "text/plain": [
       "<Figure size 907.2x432 with 3 Axes>"
      ]
     },
     "metadata": {
      "needs_background": "light"
     },
     "output_type": "display_data"
    }
   ],
   "source": [
    "# visualize the relationship between flow and responses\n",
    "sns.pairplot(data_11, x_vars=['DRP', 'TP', 'TSS'], y_vars=['Flow'], height=6, aspect=0.7)\n",
    "sns.pairplot(data_12, x_vars=['DRP', 'TP', 'TSS'], y_vars=['Flow'], height=6, aspect=0.7)"
   ]
  },
  {
   "cell_type": "markdown",
   "metadata": {},
   "source": [
    "# Objective 1\n",
    "Develop a suitable model using existing dissolved reactive P (DRP), total P (TP), and TSS"
   ]
  },
  {
   "cell_type": "code",
   "execution_count": 80,
   "metadata": {},
   "outputs": [
    {
     "name": "stdout",
     "output_type": "stream",
     "text": [
      "DRP ~ Flow\n",
      "                            OLS Regression Results                            \n",
      "==============================================================================\n",
      "Dep. Variable:                    DRP   R-squared:                       0.719\n",
      "Model:                            OLS   Adj. R-squared:                  0.708\n",
      "Method:                 Least Squares   F-statistic:                     61.48\n",
      "Date:                Fri, 04 Oct 2019   Prob (F-statistic):           4.50e-08\n",
      "Time:                        11:01:56   Log-Likelihood:                 61.156\n",
      "No. Observations:                  26   AIC:                            -118.3\n",
      "Df Residuals:                      24   BIC:                            -115.8\n",
      "Df Model:                           1                                         \n",
      "Covariance Type:            nonrobust                                         \n",
      "==============================================================================\n",
      "                 coef    std err          t      P>|t|      [0.025      0.975]\n",
      "------------------------------------------------------------------------------\n",
      "Intercept      0.0068      0.006      1.199      0.242      -0.005       0.018\n",
      "Flow           0.1487      0.019      7.841      0.000       0.110       0.188\n",
      "==============================================================================\n",
      "Omnibus:                       13.007   Durbin-Watson:                   2.306\n",
      "Prob(Omnibus):                  0.001   Jarque-Bera (JB):               11.946\n",
      "Skew:                           1.467   Prob(JB):                      0.00255\n",
      "Kurtosis:                       4.554   Cond. No.                         4.15\n",
      "==============================================================================\n",
      "\n",
      "Warnings:\n",
      "[1] Standard Errors assume that the covariance matrix of the errors is correctly specified.\n",
      "TP ~ Flow\n",
      "                            OLS Regression Results                            \n",
      "==============================================================================\n",
      "Dep. Variable:                     TP   R-squared:                       0.036\n",
      "Model:                            OLS   Adj. R-squared:                 -0.005\n",
      "Method:                 Least Squares   F-statistic:                    0.8870\n",
      "Date:                Fri, 04 Oct 2019   Prob (F-statistic):              0.356\n",
      "Time:                        11:01:56   Log-Likelihood:                -26.991\n",
      "No. Observations:                  26   AIC:                             57.98\n",
      "Df Residuals:                      24   BIC:                             60.50\n",
      "Df Model:                           1                                         \n",
      "Covariance Type:            nonrobust                                         \n",
      "==============================================================================\n",
      "                 coef    std err          t      P>|t|      [0.025      0.975]\n",
      "------------------------------------------------------------------------------\n",
      "Intercept      0.4394      0.167      2.626      0.015       0.094       0.785\n",
      "Flow           0.5301      0.563      0.942      0.356      -0.632       1.692\n",
      "==============================================================================\n",
      "Omnibus:                       29.806   Durbin-Watson:                   1.758\n",
      "Prob(Omnibus):                  0.000   Jarque-Bera (JB):               59.814\n",
      "Skew:                           2.346   Prob(JB):                     1.03e-13\n",
      "Kurtosis:                       8.762   Cond. No.                         4.15\n",
      "==============================================================================\n",
      "\n",
      "Warnings:\n",
      "[1] Standard Errors assume that the covariance matrix of the errors is correctly specified.\n",
      "TSS ~ Flow\n",
      "                            OLS Regression Results                            \n",
      "==============================================================================\n",
      "Dep. Variable:                    TSS   R-squared:                       0.003\n",
      "Model:                            OLS   Adj. R-squared:                 -0.038\n",
      "Method:                 Least Squares   F-statistic:                   0.08284\n",
      "Date:                Fri, 04 Oct 2019   Prob (F-statistic):              0.776\n",
      "Time:                        11:01:56   Log-Likelihood:                -236.65\n",
      "No. Observations:                  26   AIC:                             477.3\n",
      "Df Residuals:                      24   BIC:                             479.8\n",
      "Df Model:                           1                                         \n",
      "Covariance Type:            nonrobust                                         \n",
      "==============================================================================\n",
      "                 coef    std err          t      P>|t|      [0.025      0.975]\n",
      "------------------------------------------------------------------------------\n",
      "Intercept    813.7883    531.769      1.530      0.139    -283.730    1911.306\n",
      "Flow         514.7888   1788.619      0.288      0.776   -3176.739    4206.316\n",
      "==============================================================================\n",
      "Omnibus:                       55.816   Durbin-Watson:                   1.639\n",
      "Prob(Omnibus):                  0.000   Jarque-Bera (JB):              362.575\n",
      "Skew:                           4.085   Prob(JB):                     1.85e-79\n",
      "Kurtosis:                      19.369   Cond. No.                         4.15\n",
      "==============================================================================\n",
      "\n",
      "Warnings:\n",
      "[1] Standard Errors assume that the covariance matrix of the errors is correctly specified.\n"
     ]
    }
   ],
   "source": [
    "list_of_comparisons = ['DRP ~ Flow', 'TP ~ Flow', 'TSS ~ Flow']\n",
    "\n",
    "for x in list_of_comparisons:\n",
    "    print(x)\n",
    "    result = smf.ols(formula=x, data=data_11).fit()\n",
    "    print(result.summary())"
   ]
  },
  {
   "cell_type": "code",
   "execution_count": 52,
   "metadata": {},
   "outputs": [
    {
     "name": "stdout",
     "output_type": "stream",
     "text": [
      "DRP ~ Flow\n",
      "                            OLS Regression Results                            \n",
      "==============================================================================\n",
      "Dep. Variable:                    DRP   R-squared:                       0.413\n",
      "Model:                            OLS   Adj. R-squared:                  0.393\n",
      "Method:                 Least Squares   F-statistic:                     21.10\n",
      "Date:                Fri, 04 Oct 2019   Prob (F-statistic):           7.32e-05\n",
      "Time:                        10:13:48   Log-Likelihood:                 47.461\n",
      "No. Observations:                  32   AIC:                            -90.92\n",
      "Df Residuals:                      30   BIC:                            -87.99\n",
      "Df Model:                           1                                         \n",
      "Covariance Type:            nonrobust                                         \n",
      "==============================================================================\n",
      "                 coef    std err          t      P>|t|      [0.025      0.975]\n",
      "------------------------------------------------------------------------------\n",
      "Intercept      0.0116      0.013      0.918      0.366      -0.014       0.037\n",
      "Flow           0.4836      0.105      4.593      0.000       0.269       0.699\n",
      "==============================================================================\n",
      "Omnibus:                       47.570   Durbin-Watson:                   1.320\n",
      "Prob(Omnibus):                  0.000   Jarque-Bera (JB):              236.046\n",
      "Skew:                           3.113   Prob(JB):                     5.54e-52\n",
      "Kurtosis:                      14.759   Cond. No.                         10.6\n",
      "==============================================================================\n",
      "\n",
      "Warnings:\n",
      "[1] Standard Errors assume that the covariance matrix of the errors is correctly specified.\n",
      "TP ~ Flow\n",
      "                            OLS Regression Results                            \n",
      "==============================================================================\n",
      "Dep. Variable:                     TP   R-squared:                       0.558\n",
      "Model:                            OLS   Adj. R-squared:                  0.543\n",
      "Method:                 Least Squares   F-statistic:                     37.81\n",
      "Date:                Fri, 04 Oct 2019   Prob (F-statistic):           9.20e-07\n",
      "Time:                        10:13:48   Log-Likelihood:               0.093905\n",
      "No. Observations:                  32   AIC:                             3.812\n",
      "Df Residuals:                      30   BIC:                             6.744\n",
      "Df Model:                           1                                         \n",
      "Covariance Type:            nonrobust                                         \n",
      "==============================================================================\n",
      "                 coef    std err          t      P>|t|      [0.025      0.975]\n",
      "------------------------------------------------------------------------------\n",
      "Intercept      0.0357      0.055      0.644      0.524      -0.078       0.149\n",
      "Flow           2.8447      0.463      6.149      0.000       1.900       3.790\n",
      "==============================================================================\n",
      "Omnibus:                       13.785   Durbin-Watson:                   2.480\n",
      "Prob(Omnibus):                  0.001   Jarque-Bera (JB):               15.234\n",
      "Skew:                           1.211   Prob(JB):                     0.000492\n",
      "Kurtosis:                       5.359   Cond. No.                         10.6\n",
      "==============================================================================\n",
      "\n",
      "Warnings:\n",
      "[1] Standard Errors assume that the covariance matrix of the errors is correctly specified.\n",
      "TSS ~ Flow\n",
      "                            OLS Regression Results                            \n",
      "==============================================================================\n",
      "Dep. Variable:                    TSS   R-squared:                       0.556\n",
      "Model:                            OLS   Adj. R-squared:                  0.541\n",
      "Method:                 Least Squares   F-statistic:                     37.55\n",
      "Date:                Fri, 04 Oct 2019   Prob (F-statistic):           9.76e-07\n",
      "Time:                        10:13:48   Log-Likelihood:                -230.79\n",
      "No. Observations:                  32   AIC:                             465.6\n",
      "Df Residuals:                      30   BIC:                             468.5\n",
      "Df Model:                           1                                         \n",
      "Covariance Type:            nonrobust                                         \n",
      "==============================================================================\n",
      "                 coef    std err          t      P>|t|      [0.025      0.975]\n",
      "------------------------------------------------------------------------------\n",
      "Intercept   -143.3081     75.413     -1.900      0.067    -297.323      10.706\n",
      "Flow        3854.9033    629.085      6.128      0.000    2570.141    5139.665\n",
      "==============================================================================\n",
      "Omnibus:                       20.257   Durbin-Watson:                   2.516\n",
      "Prob(Omnibus):                  0.000   Jarque-Bera (JB):               68.576\n",
      "Skew:                           0.986   Prob(JB):                     1.29e-15\n",
      "Kurtosis:                       9.895   Cond. No.                         10.6\n",
      "==============================================================================\n",
      "\n",
      "Warnings:\n",
      "[1] Standard Errors assume that the covariance matrix of the errors is correctly specified.\n"
     ]
    }
   ],
   "source": [
    "list_of_comparisons = ['DRP ~ Flow', 'TP ~ Flow', 'TSS ~ Flow']\n",
    "\n",
    "for x in list_of_comparisons:\n",
    "    print(x)\n",
    "    result = smf.ols(formula=x, data=data_12).fit()\n",
    "    print(result.summary())"
   ]
  },
  {
   "cell_type": "markdown",
   "metadata": {},
   "source": [
    "# Discussion for objective 1\n",
    "<font color=red>\n",
    "The quality of the OLS models was evaluated based on p-value and R2: <br>\n",
    "1) S11-DRP - will work well <br>\n",
    "2) S11-TP - will not work well <br>\n",
    "3) S11-TSS - will not work well based on R2, p-value, and high Y-intercept value <br>\n",
    "4) S12- DRP - will work well <br>\n",
    "5) S12 - TP - will work well <br>\n",
    "6) S12 - TSS - appear that it will work well based on R2 and p-value, but the Y-intercept is largely negative\n",
    "</font>"
   ]
  },
  {
   "cell_type": "markdown",
   "metadata": {},
   "source": [
    "# Objective 2\n",
    "Predict the missing DRP, TP, TSS data using the model developed in (1)"
   ]
  },
  {
   "cell_type": "code",
   "execution_count": 176,
   "metadata": {},
   "outputs": [
    {
     "data": {
      "text/html": [
       "<div>\n",
       "<style scoped>\n",
       "    .dataframe tbody tr th:only-of-type {\n",
       "        vertical-align: middle;\n",
       "    }\n",
       "\n",
       "    .dataframe tbody tr th {\n",
       "        vertical-align: top;\n",
       "    }\n",
       "\n",
       "    .dataframe thead th {\n",
       "        text-align: right;\n",
       "    }\n",
       "</style>\n",
       "<table border=\"1\" class=\"dataframe\">\n",
       "  <thead>\n",
       "    <tr style=\"text-align: right;\">\n",
       "      <th></th>\n",
       "      <th>DRP ~ Flow</th>\n",
       "      <th>TP ~ Flow</th>\n",
       "      <th>TSS ~ Flow</th>\n",
       "    </tr>\n",
       "  </thead>\n",
       "  <tbody>\n",
       "    <tr>\n",
       "      <th>21</th>\n",
       "      <td>0.022142</td>\n",
       "      <td>0.494259</td>\n",
       "      <td>867.024807</td>\n",
       "    </tr>\n",
       "    <tr>\n",
       "      <th>22</th>\n",
       "      <td>0.034885</td>\n",
       "      <td>0.539682</td>\n",
       "      <td>911.134534</td>\n",
       "    </tr>\n",
       "    <tr>\n",
       "      <th>28</th>\n",
       "      <td>0.030057</td>\n",
       "      <td>0.522472</td>\n",
       "      <td>894.421904</td>\n",
       "    </tr>\n",
       "  </tbody>\n",
       "</table>\n",
       "</div>"
      ],
      "text/plain": [
       "    DRP ~ Flow  TP ~ Flow  TSS ~ Flow\n",
       "21    0.022142   0.494259  867.024807\n",
       "22    0.034885   0.539682  911.134534\n",
       "28    0.030057   0.522472  894.421904"
      ]
     },
     "execution_count": 176,
     "metadata": {},
     "output_type": "execute_result"
    }
   ],
   "source": [
    "# predict values and export the values into a dataframe for S11\n",
    "list_of_comparisons = ['DRP ~ Flow', 'TP ~ Flow', 'TSS ~ Flow']\n",
    "predictions_11 = pd.DataFrame(columns=list(list_of_comparisons))\n",
    "\n",
    "for x in list_of_comparisons:\n",
    "    result = smf.ols(formula=x, data=data_11).fit()\n",
    "    prednull_11 = result.predict(data_11_null['Flow'])\n",
    "    predictions_11.loc[:, x] = prednull_11    \n",
    "predictions_11"
   ]
  },
  {
   "cell_type": "code",
   "execution_count": 199,
   "metadata": {},
   "outputs": [
    {
     "data": {
      "text/html": [
       "<div>\n",
       "<style scoped>\n",
       "    .dataframe tbody tr th:only-of-type {\n",
       "        vertical-align: middle;\n",
       "    }\n",
       "\n",
       "    .dataframe tbody tr th {\n",
       "        vertical-align: top;\n",
       "    }\n",
       "\n",
       "    .dataframe thead th {\n",
       "        text-align: right;\n",
       "    }\n",
       "</style>\n",
       "<table border=\"1\" class=\"dataframe\">\n",
       "  <thead>\n",
       "    <tr style=\"text-align: right;\">\n",
       "      <th></th>\n",
       "      <th>DRP</th>\n",
       "      <th>TP</th>\n",
       "      <th>TSS</th>\n",
       "      <th>Flow</th>\n",
       "      <th>Date</th>\n",
       "      <th>Site</th>\n",
       "    </tr>\n",
       "  </thead>\n",
       "  <tbody>\n",
       "    <tr>\n",
       "      <th>21</th>\n",
       "      <td>0.022142</td>\n",
       "      <td>0.494259</td>\n",
       "      <td>867.024807</td>\n",
       "      <td>0.103414</td>\n",
       "      <td>2018-06-22</td>\n",
       "      <td>S11</td>\n",
       "    </tr>\n",
       "    <tr>\n",
       "      <th>22</th>\n",
       "      <td>0.034885</td>\n",
       "      <td>0.539682</td>\n",
       "      <td>911.134534</td>\n",
       "      <td>0.189099</td>\n",
       "      <td>2018-06-27</td>\n",
       "      <td>S11</td>\n",
       "    </tr>\n",
       "    <tr>\n",
       "      <th>28</th>\n",
       "      <td>0.030057</td>\n",
       "      <td>0.522472</td>\n",
       "      <td>894.421904</td>\n",
       "      <td>0.156634</td>\n",
       "      <td>2018-10-11</td>\n",
       "      <td>S11</td>\n",
       "    </tr>\n",
       "  </tbody>\n",
       "</table>\n",
       "</div>"
      ],
      "text/plain": [
       "         DRP        TP         TSS      Flow       Date Site\n",
       "21  0.022142  0.494259  867.024807  0.103414 2018-06-22  S11\n",
       "22  0.034885  0.539682  911.134534  0.189099 2018-06-27  S11\n",
       "28  0.030057  0.522472  894.421904  0.156634 2018-10-11  S11"
      ]
     },
     "execution_count": 199,
     "metadata": {},
     "output_type": "execute_result"
    }
   ],
   "source": [
    "# add the values back into this new dataframe - getting the dataframe ready to merge with the main dataframe\n",
    "predictions_11 ['Flow'] = data_11_null ['Flow']\n",
    "predictions_11 ['Date'] = data_11_null ['Date']\n",
    "predictions_11 ['Site'] = 'S11'\n",
    "predictions_11 = predictions_11.rename(columns={'DRP ~ Flow': 'DRP', 'TP ~ Flow': 'TP', 'TSS ~ Flow': 'TSS'})\n",
    "predictions_11"
   ]
  },
  {
   "cell_type": "code",
   "execution_count": 219,
   "metadata": {},
   "outputs": [
    {
     "data": {
      "image/png": "[encoded data removed]",
      "text/plain": [
       "<Figure size 432x288 with 1 Axes>"
      ]
     },
     "metadata": {
      "needs_background": "light"
     },
     "output_type": "display_data"
    },
    {
     "data": {
      "image/png": "[encoded data removed]",
      "text/plain": [
       "<Figure size 432x288 with 1 Axes>"
      ]
     },
     "metadata": {
      "needs_background": "light"
     },
     "output_type": "display_data"
    },
    {
     "data": {
      "image/png": "[encoded data removed]",
      "text/plain": [
       "<Figure size 432x288 with 1 Axes>"
      ]
     },
     "metadata": {
      "needs_background": "light"
     },
     "output_type": "display_data"
    }
   ],
   "source": [
    "analytes = ['DRP', 'TP', 'TSS']\n",
    "\n",
    "for x in analytes:\n",
    "    plt.scatter(data_11['Flow'], data_11[x], label='actual')\n",
    "    plt.scatter(predictions_11['Flow'], predictions_11[x], label='predicted')\n",
    "    plt.legend()\n",
    "    plt.xlabel('Flow')\n",
    "    plt.ylabel(x)\n",
    "    plt.show()"
   ]
  },
  {
   "cell_type": "code",
   "execution_count": 220,
   "metadata": {},
   "outputs": [
    {
     "data": {
      "text/plain": [
       "(26, 6)"
      ]
     },
     "execution_count": 220,
     "metadata": {},
     "output_type": "execute_result"
    }
   ],
   "source": [
    "data_11.shape"
   ]
  },
  {
   "cell_type": "code",
   "execution_count": 221,
   "metadata": {},
   "outputs": [
    {
     "data": {
      "text/plain": [
       "(29, 6)"
      ]
     },
     "execution_count": 221,
     "metadata": {},
     "output_type": "execute_result"
    }
   ],
   "source": [
    "merged_11 = pd.concat([data_11, predictions_11], sort=True)\n",
    "merged_11 = merged_11.sort_values(by=['Date'])\n",
    "merged_11.shape"
   ]
  },
  {
   "cell_type": "code",
   "execution_count": 223,
   "metadata": {},
   "outputs": [
    {
     "data": {
      "text/plain": [
       "(4, 6)"
      ]
     },
     "execution_count": 223,
     "metadata": {},
     "output_type": "execute_result"
    }
   ],
   "source": [
    "# predict values and export the values into a dataframe for S12\n",
    "list_of_comparisons = ['DRP ~ Flow', 'TP ~ Flow', 'TSS ~ Flow']\n",
    "predictions_12 = pd.DataFrame(columns=list(list_of_comparisons))\n",
    "\n",
    "for x in list_of_comparisons:\n",
    "    result = smf.ols(formula=x, data=data_12).fit()\n",
    "    prednull_12 = result.predict(data_12_null['Flow'])\n",
    "    predictions_12.loc[:, x] = prednull_12    \n",
    "\n",
    "# add the values back into this new dataframe - getting the dataframe ready to merge with the main dataframe\n",
    "predictions_12 ['Flow'] = data_12_null ['Flow']\n",
    "predictions_12 ['Date'] = data_12_null ['Date']\n",
    "predictions_12 ['Site'] = 'S12'\n",
    "predictions_12 = predictions_12.rename(columns={'DRP ~ Flow': 'DRP', 'TP ~ Flow': 'TP', 'TSS ~ Flow': 'TSS'})\n",
    "predictions_12.shape"
   ]
  },
  {
   "cell_type": "code",
   "execution_count": 222,
   "metadata": {},
   "outputs": [
    {
     "data": {
      "image/png": "[encoded data removed]",
      "text/plain": [
       "<Figure size 432x288 with 1 Axes>"
      ]
     },
     "metadata": {
      "needs_background": "light"
     },
     "output_type": "display_data"
    },
    {
     "data": {
      "image/png": "[encoded data removed]",
      "text/plain": [
       "<Figure size 432x288 with 1 Axes>"
      ]
     },
     "metadata": {
      "needs_background": "light"
     },
     "output_type": "display_data"
    },
    {
     "data": {
      "image/png": "[encoded data removed]",
      "text/plain": [
       "<Figure size 432x288 with 1 Axes>"
      ]
     },
     "metadata": {
      "needs_background": "light"
     },
     "output_type": "display_data"
    }
   ],
   "source": [
    "analytes = ['DRP', 'TP', 'TSS']\n",
    "\n",
    "for x in analytes:\n",
    "    plt.scatter(data_12['Flow'], data_12[x], label='actual')\n",
    "    plt.scatter(predictions_12['Flow'], predictions_12[x], label='predicted')\n",
    "    plt.legend()\n",
    "    plt.xlabel('Flow')\n",
    "    plt.ylabel(x)\n",
    "    plt.show()"
   ]
  },
  {
   "cell_type": "code",
   "execution_count": 225,
   "metadata": {},
   "outputs": [
    {
     "data": {
      "text/plain": [
       "(36, 6)"
      ]
     },
     "execution_count": 225,
     "metadata": {},
     "output_type": "execute_result"
    }
   ],
   "source": [
    "merged_12 = pd.concat([data_12, predictions_12], sort=True)\n",
    "merged_12 = merged_12.sort_values(by=['Date'])\n",
    "merged_12.shape"
   ]
  },
  {
   "cell_type": "code",
   "execution_count": 229,
   "metadata": {},
   "outputs": [
    {
     "name": "stdout",
     "output_type": "stream",
     "text": [
      "(65, 6)\n",
      "DRP     0\n",
      "Date    0\n",
      "Flow    0\n",
      "Site    0\n",
      "TP      0\n",
      "TSS     0\n",
      "dtype: int64\n"
     ]
    }
   ],
   "source": [
    "# merge all the data back together\n",
    "final_merged = pd.concat([merged_11, merged_12])\n",
    "print(final_merged.shape)\n",
    "print(final_merged.isnull().sum())"
   ]
  },
  {
   "cell_type": "markdown",
   "metadata": {},
   "source": [
    "# Discussion for objective 2\n",
    "<font color='red'>\n",
    "From the figures above where predicted and actual values were plotted: <br>\n",
    "1) S11-DRP - worked well <br>\n",
    "2) S11-TP - worked okay (within somewhat expected range, but the model had weak R2 and p-value) <br>\n",
    "3) S11-TSS - worked okay (within somewhat expected range) <br>\n",
    "4) S12- DRP - worked well <br>\n",
    "5) S12 - TP - worked well <br>\n",
    "6) S12 - TSS - did not work at all (some of the predicted TSS concentrations were negative) <br>\n",
    "\n",
    "In summary, this OLS model worked well for DRP and TP, but not TSS. Another suitable model is needed to predict TSS concentration. A potential approach is to multiple-linear-regression to incorporate several parameters such as precipitation data (antecedent condition) and time of the year (seasonality - land cover density).\n",
    "</font>"
   ]
  },
  {
   "cell_type": "code",
   "execution_count": null,
   "metadata": {},
   "outputs": [],
   "source": []
  }
 ],
 "metadata": {
  "kernelspec": {
   "display_name": "Python 3",
   "language": "python",
   "name": "python3"
  },
  "language_info": {
   "codemirror_mode": {
    "name": "ipython",
    "version": 3
   },
   "file_extension": ".py",
   "mimetype": "text/x-python",
   "name": "python",
   "nbconvert_exporter": "python",
   "pygments_lexer": "ipython3",
   "version": "3.7.3"
  }
 },
 "nbformat": 4,
 "nbformat_minor": 2
}
