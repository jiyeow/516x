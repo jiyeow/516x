{
 "cells": [
  {
   "cell_type": "markdown",
   "metadata": {},
   "source": [
    "## Linear Regression Assignment\n",
    "In a watershed monitoring project, automated samplers are often used to collect water samples. However, these automated samplers may fail from time to time due to various instrumentation issues, such as power failure and damaged instruments. When the automated sampler failed to collect water samples, it leaves a data gap from a certain period of time. <br> \n",
    "\n",
    "Base flow nutrient concentration data are often linearly interpolated (or sometimes extrapolated) using nutrient data of the last and next sample collected. This approach cannot be applied to event flow nutrient and sediment (hereinafter refer as nutrient) data, especially phosphorus (P) and sediment (TSS), because of the large variations in nutrient concentration that can be caused by flow. <br>\n",
    "\n",
    "The objectived of this task are to: <br>\n",
    "1) develop a suitable model using existing dissolved reactive P (DRP), total P (TP), and TSS <br>\n",
    "2) predict the missing DRP, TP, TSS data using the model developed in (1)"
   ]
  },
  {
   "cell_type": "code",
   "execution_count": 39,
   "metadata": {},
   "outputs": [],
   "source": [
    "import pandas as pd\n",
    "import numpy as np\n",
    "import seaborn as sns\n",
    "import statsmodels.formula.api as smf\n"
   ]
  },
  {
   "cell_type": "code",
   "execution_count": 26,
   "metadata": {},
   "outputs": [
    {
     "data": {
      "text/html": [
       "<div>\n",
       "<style scoped>\n",
       "    .dataframe tbody tr th:only-of-type {\n",
       "        vertical-align: middle;\n",
       "    }\n",
       "\n",
       "    .dataframe tbody tr th {\n",
       "        vertical-align: top;\n",
       "    }\n",
       "\n",
       "    .dataframe thead th {\n",
       "        text-align: right;\n",
       "    }\n",
       "</style>\n",
       "<table border=\"1\" class=\"dataframe\">\n",
       "  <thead>\n",
       "    <tr style=\"text-align: right;\">\n",
       "      <th></th>\n",
       "      <th>Sample date</th>\n",
       "      <th>Site</th>\n",
       "      <th>Flow (cms)</th>\n",
       "      <th>DRP (mg P/L)</th>\n",
       "      <th>TP (mg P/L)</th>\n",
       "      <th>TSS (mg/L)</th>\n",
       "      <th>VSS (mg/L)</th>\n",
       "    </tr>\n",
       "  </thead>\n",
       "  <tbody>\n",
       "    <tr>\n",
       "      <th>0</th>\n",
       "      <td>2015-05-19</td>\n",
       "      <td>S11</td>\n",
       "      <td>0.028210</td>\n",
       "      <td>0.018</td>\n",
       "      <td>0.0015</td>\n",
       "      <td>22.333667</td>\n",
       "      <td>19.264296</td>\n",
       "    </tr>\n",
       "    <tr>\n",
       "      <th>1</th>\n",
       "      <td>2015-06-16</td>\n",
       "      <td>S11</td>\n",
       "      <td>0.189993</td>\n",
       "      <td>0.027</td>\n",
       "      <td>0.1770</td>\n",
       "      <td>1006.666667</td>\n",
       "      <td>892.000000</td>\n",
       "    </tr>\n",
       "    <tr>\n",
       "      <th>2</th>\n",
       "      <td>2015-06-30</td>\n",
       "      <td>S11</td>\n",
       "      <td>1.296460</td>\n",
       "      <td>0.203</td>\n",
       "      <td>1.2590</td>\n",
       "      <td>1338.666667</td>\n",
       "      <td>1194.666667</td>\n",
       "    </tr>\n",
       "    <tr>\n",
       "      <th>3</th>\n",
       "      <td>2015-08-18</td>\n",
       "      <td>S11</td>\n",
       "      <td>0.131722</td>\n",
       "      <td>0.050</td>\n",
       "      <td>1.3280</td>\n",
       "      <td>2026.000000</td>\n",
       "      <td>1812.000000</td>\n",
       "    </tr>\n",
       "    <tr>\n",
       "      <th>4</th>\n",
       "      <td>2015-08-25</td>\n",
       "      <td>S11</td>\n",
       "      <td>0.120204</td>\n",
       "      <td>0.010</td>\n",
       "      <td>3.1180</td>\n",
       "      <td>1722.000000</td>\n",
       "      <td>1560.000000</td>\n",
       "    </tr>\n",
       "  </tbody>\n",
       "</table>\n",
       "</div>"
      ],
      "text/plain": [
       "  Sample date Site  Flow (cms)  DRP (mg P/L)  TP (mg P/L)   TSS (mg/L)  \\\n",
       "0  2015-05-19  S11    0.028210         0.018       0.0015    22.333667   \n",
       "1  2015-06-16  S11    0.189993         0.027       0.1770  1006.666667   \n",
       "2  2015-06-30  S11    1.296460         0.203       1.2590  1338.666667   \n",
       "3  2015-08-18  S11    0.131722         0.050       1.3280  2026.000000   \n",
       "4  2015-08-25  S11    0.120204         0.010       3.1180  1722.000000   \n",
       "\n",
       "    VSS (mg/L)  \n",
       "0    19.264296  \n",
       "1   892.000000  \n",
       "2  1194.666667  \n",
       "3  1812.000000  \n",
       "4  1560.000000  "
      ]
     },
     "execution_count": 26,
     "metadata": {},
     "output_type": "execute_result"
    }
   ],
   "source": [
    "# import data from excel\n",
    "data = pd.read_excel('JY_linear_reg_data.xlsx', sheet_name = 'Data')\n",
    "data.head()"
   ]
  },
  {
   "cell_type": "code",
   "execution_count": 27,
   "metadata": {},
   "outputs": [
    {
     "data": {
      "text/html": [
       "<div>\n",
       "<style scoped>\n",
       "    .dataframe tbody tr th:only-of-type {\n",
       "        vertical-align: middle;\n",
       "    }\n",
       "\n",
       "    .dataframe tbody tr th {\n",
       "        vertical-align: top;\n",
       "    }\n",
       "\n",
       "    .dataframe thead th {\n",
       "        text-align: right;\n",
       "    }\n",
       "</style>\n",
       "<table border=\"1\" class=\"dataframe\">\n",
       "  <thead>\n",
       "    <tr style=\"text-align: right;\">\n",
       "      <th></th>\n",
       "      <th>Date</th>\n",
       "      <th>Site</th>\n",
       "      <th>Flow</th>\n",
       "      <th>DRP</th>\n",
       "      <th>TP</th>\n",
       "      <th>TSS</th>\n",
       "    </tr>\n",
       "  </thead>\n",
       "  <tbody>\n",
       "    <tr>\n",
       "      <th>0</th>\n",
       "      <td>2015-05-19</td>\n",
       "      <td>S11</td>\n",
       "      <td>0.028210</td>\n",
       "      <td>0.018</td>\n",
       "      <td>0.0015</td>\n",
       "      <td>22.333667</td>\n",
       "    </tr>\n",
       "    <tr>\n",
       "      <th>1</th>\n",
       "      <td>2015-06-16</td>\n",
       "      <td>S11</td>\n",
       "      <td>0.189993</td>\n",
       "      <td>0.027</td>\n",
       "      <td>0.1770</td>\n",
       "      <td>1006.666667</td>\n",
       "    </tr>\n",
       "    <tr>\n",
       "      <th>2</th>\n",
       "      <td>2015-06-30</td>\n",
       "      <td>S11</td>\n",
       "      <td>1.296460</td>\n",
       "      <td>0.203</td>\n",
       "      <td>1.2590</td>\n",
       "      <td>1338.666667</td>\n",
       "    </tr>\n",
       "    <tr>\n",
       "      <th>3</th>\n",
       "      <td>2015-08-18</td>\n",
       "      <td>S11</td>\n",
       "      <td>0.131722</td>\n",
       "      <td>0.050</td>\n",
       "      <td>1.3280</td>\n",
       "      <td>2026.000000</td>\n",
       "    </tr>\n",
       "    <tr>\n",
       "      <th>4</th>\n",
       "      <td>2015-08-25</td>\n",
       "      <td>S11</td>\n",
       "      <td>0.120204</td>\n",
       "      <td>0.010</td>\n",
       "      <td>3.1180</td>\n",
       "      <td>1722.000000</td>\n",
       "    </tr>\n",
       "  </tbody>\n",
       "</table>\n",
       "</div>"
      ],
      "text/plain": [
       "        Date Site      Flow    DRP      TP          TSS\n",
       "0 2015-05-19  S11  0.028210  0.018  0.0015    22.333667\n",
       "1 2015-06-16  S11  0.189993  0.027  0.1770  1006.666667\n",
       "2 2015-06-30  S11  1.296460  0.203  1.2590  1338.666667\n",
       "3 2015-08-18  S11  0.131722  0.050  1.3280  2026.000000\n",
       "4 2015-08-25  S11  0.120204  0.010  3.1180  1722.000000"
      ]
     },
     "execution_count": 27,
     "metadata": {},
     "output_type": "execute_result"
    }
   ],
   "source": [
    "# drop 'VSS' column, rename the columns into shorter names\n",
    "\n",
    "data = data.drop(columns=['VSS (mg/L)'])\n",
    "data = data.rename(columns={'Sample date': 'Date', 'Flow (cms)':'Flow', 'DRP (mg P/L)':'DRP', 'TP (mg P/L)':'TP', 'TSS (mg/L)':'TSS'})\n",
    "data.head()"
   ]
  },
  {
   "cell_type": "code",
   "execution_count": 28,
   "metadata": {},
   "outputs": [
    {
     "data": {
      "text/plain": [
       "Date    0\n",
       "Site    0\n",
       "Flow    0\n",
       "DRP     7\n",
       "TP      7\n",
       "TSS     7\n",
       "dtype: int64"
      ]
     },
     "execution_count": 28,
     "metadata": {},
     "output_type": "execute_result"
    }
   ],
   "source": [
    "# check the number of null values\n",
    "data.isnull().sum()"
   ]
  },
  {
   "cell_type": "code",
   "execution_count": 37,
   "metadata": {},
   "outputs": [
    {
     "data": {
      "text/plain": [
       "<seaborn.axisgrid.PairGrid at 0x21e97155828>"
      ]
     },
     "execution_count": 37,
     "metadata": {},
     "output_type": "execute_result"
    },
    {
     "data": {
      "image/png": "[encoded data removed]",
      "text/plain": [
       "<Figure size 907.2x432 with 3 Axes>"
      ]
     },
     "metadata": {
      "needs_background": "light"
     },
     "output_type": "display_data"
    }
   ],
   "source": [
    "# visualize the relationship between flow and responses\n",
    "sns.pairplot(data, x_vars=['DRP', 'TP', 'TSS'], y_vars=['Flow'], height=6, aspect=0.7)"
   ]
  },
  {
   "cell_type": "code",
   "execution_count": null,
   "metadata": {},
   "outputs": [],
   "source": [
    "# drop the null values then revisualize"
   ]
  },
  {
   "cell_type": "code",
   "execution_count": 40,
   "metadata": {},
   "outputs": [
    {
     "name": "stdout",
     "output_type": "stream",
     "text": [
      "DRP ~ Flow\n",
      "Intercept    0.019545\n",
      "Flow         0.178041\n",
      "dtype: float64\n",
      "TP ~ Flow\n",
      "Intercept    0.254141\n",
      "Flow         1.018394\n",
      "dtype: float64\n",
      "TSS ~ Flow\n",
      "Intercept     311.897959\n",
      "Flow         1464.209054\n",
      "dtype: float64\n"
     ]
    }
   ],
   "source": [
    "list_of_comparisons = ['DRP ~ Flow', 'TP ~ Flow', 'TSS ~ Flow']\n",
    "\n",
    "for x in list_of_comparisons:\n",
    "    print(x)\n",
    "    result = smf.ols(formula=x, data=data).fit()\n",
    "    print(result.params)"
   ]
  },
  {
   "cell_type": "code",
   "execution_count": null,
   "metadata": {},
   "outputs": [],
   "source": []
  }
 ],
 "metadata": {
  "kernelspec": {
   "display_name": "Python 3",
   "language": "python",
   "name": "python3"
  },
  "language_info": {
   "codemirror_mode": {
    "name": "ipython",
    "version": 3
   },
   "file_extension": ".py",
   "mimetype": "text/x-python",
   "name": "python",
   "nbconvert_exporter": "python",
   "pygments_lexer": "ipython3",
   "version": "3.7.3"
  }
 },
 "nbformat": 4,
 "nbformat_minor": 2
}
