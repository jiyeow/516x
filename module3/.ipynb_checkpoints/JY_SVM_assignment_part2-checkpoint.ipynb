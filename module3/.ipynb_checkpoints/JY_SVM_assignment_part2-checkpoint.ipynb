{
 "cells": [
  {
   "cell_type": "markdown",
   "metadata": {},
   "source": [
    "Exploring tutorial: <br>\n",
    "Looking for another regression \"better\" than OLS <br>\n",
    "Will be exploring Lasso regression in this assignment to determine if it works better in predicting missing data than using OLS <br>"
   ]
  },
  {
   "cell_type": "markdown",
   "metadata": {},
   "source": [
    "Recap on previous assignment discussion <br>\n",
    "<font color='blue'>\n",
    "From the figures above where predicted and actual values were plotted: <br>\n",
    "1) S11-DRP - worked well <br>\n",
    "2) S11-TP - worked okay (within somewhat expected range, but the model had weak R2 and p-value) <br>\n",
    "3) S11-TSS - worked okay (within somewhat expected range) <br>\n",
    "4) S12- DRP - worked well <br>\n",
    "5) S12 - TP - worked well <br>\n",
    "6) S12 - TSS - did not work at all (some of the predicted TSS concentrations were negative) <br>\n",
    "\n",
    "In summary, this OLS model worked well for DRP and TP, but not TSS. Another suitable model is needed to predict TSS concentration. A potential approach is to multiple-linear-regression to incorporate several parameters such as precipitation data (antecedent condition) and time of the year (seasonality - land cover density).\n",
    "</font>"
   ]
  },
  {
   "cell_type": "markdown",
   "metadata": {},
   "source": [
    "So...in this assignment we will be exploring Lasso regression to determine if it works better in predicting missing data (especially TSS) than using OLS <br>"
   ]
  },
  {
   "cell_type": "code",
   "execution_count": 17,
   "metadata": {},
   "outputs": [],
   "source": [
    "import pandas as pd\n",
    "import numpy as np\n",
    "import seaborn as sns\n",
    "import matplotlib.pyplot as plt\n",
    "from sklearn import linear_model\n",
    "from scipy import stats"
   ]
  },
  {
   "cell_type": "code",
   "execution_count": 11,
   "metadata": {},
   "outputs": [
    {
     "data": {
      "text/html": [
       "<div>\n",
       "<style scoped>\n",
       "    .dataframe tbody tr th:only-of-type {\n",
       "        vertical-align: middle;\n",
       "    }\n",
       "\n",
       "    .dataframe tbody tr th {\n",
       "        vertical-align: top;\n",
       "    }\n",
       "\n",
       "    .dataframe thead th {\n",
       "        text-align: right;\n",
       "    }\n",
       "</style>\n",
       "<table border=\"1\" class=\"dataframe\">\n",
       "  <thead>\n",
       "    <tr style=\"text-align: right;\">\n",
       "      <th></th>\n",
       "      <th>Date</th>\n",
       "      <th>Site</th>\n",
       "      <th>Flow</th>\n",
       "      <th>DRP</th>\n",
       "      <th>TP</th>\n",
       "      <th>TSS</th>\n",
       "    </tr>\n",
       "  </thead>\n",
       "  <tbody>\n",
       "    <tr>\n",
       "      <th>0</th>\n",
       "      <td>2015-05-19</td>\n",
       "      <td>S11</td>\n",
       "      <td>0.028210</td>\n",
       "      <td>0.018</td>\n",
       "      <td>0.0015</td>\n",
       "      <td>22.333667</td>\n",
       "    </tr>\n",
       "    <tr>\n",
       "      <th>1</th>\n",
       "      <td>2015-06-16</td>\n",
       "      <td>S11</td>\n",
       "      <td>0.189993</td>\n",
       "      <td>0.027</td>\n",
       "      <td>0.1770</td>\n",
       "      <td>1006.666667</td>\n",
       "    </tr>\n",
       "    <tr>\n",
       "      <th>2</th>\n",
       "      <td>2015-06-30</td>\n",
       "      <td>S11</td>\n",
       "      <td>1.296460</td>\n",
       "      <td>0.203</td>\n",
       "      <td>1.2590</td>\n",
       "      <td>1338.666667</td>\n",
       "    </tr>\n",
       "    <tr>\n",
       "      <th>3</th>\n",
       "      <td>2015-08-18</td>\n",
       "      <td>S11</td>\n",
       "      <td>0.131722</td>\n",
       "      <td>0.050</td>\n",
       "      <td>1.3280</td>\n",
       "      <td>2026.000000</td>\n",
       "    </tr>\n",
       "    <tr>\n",
       "      <th>4</th>\n",
       "      <td>2015-08-25</td>\n",
       "      <td>S11</td>\n",
       "      <td>0.120204</td>\n",
       "      <td>0.010</td>\n",
       "      <td>3.1180</td>\n",
       "      <td>1722.000000</td>\n",
       "    </tr>\n",
       "  </tbody>\n",
       "</table>\n",
       "</div>"
      ],
      "text/plain": [
       "        Date Site      Flow    DRP      TP          TSS\n",
       "0 2015-05-19  S11  0.028210  0.018  0.0015    22.333667\n",
       "1 2015-06-16  S11  0.189993  0.027  0.1770  1006.666667\n",
       "2 2015-06-30  S11  1.296460  0.203  1.2590  1338.666667\n",
       "3 2015-08-18  S11  0.131722  0.050  1.3280  2026.000000\n",
       "4 2015-08-25  S11  0.120204  0.010  3.1180  1722.000000"
      ]
     },
     "execution_count": 11,
     "metadata": {},
     "output_type": "execute_result"
    }
   ],
   "source": [
    "# import data from excel\n",
    "data = pd.read_excel('JY_linear_reg_data.xlsx', sheet_name = 'Data')\n",
    "\n",
    "# drop 'VSS' column, rename the columns into shorter names\n",
    "data = data.drop(columns=['VSS (mg/L)'])\n",
    "data = data.rename(columns={'Sample date': 'Date', 'Flow (cms)':'Flow', 'DRP (mg P/L)':'DRP', 'TP (mg P/L)':'TP', 'TSS (mg/L)':'TSS'})\n",
    "data.head()"
   ]
  },
  {
   "cell_type": "code",
   "execution_count": 12,
   "metadata": {},
   "outputs": [
    {
     "name": "stdout",
     "output_type": "stream",
     "text": [
      "S11\n",
      "Date    0\n",
      "Site    0\n",
      "Flow    0\n",
      "DRP     3\n",
      "TP      3\n",
      "TSS     3\n",
      "dtype: int64\n",
      "S12\n",
      "Date    0\n",
      "Site    0\n",
      "Flow    0\n",
      "DRP     4\n",
      "TP      4\n",
      "TSS     4\n",
      "dtype: int64\n"
     ]
    }
   ],
   "source": [
    "# separate data by site\n",
    "data_11 = data[data['Site'] == 'S11']\n",
    "data_12 = data[data['Site'] == 'S12']\n",
    "\n",
    "# check the number of null values\n",
    "print('S11')\n",
    "print(data_11.isnull().sum())\n",
    "print('S12')\n",
    "print(data_12.isnull().sum())"
   ]
  },
  {
   "cell_type": "code",
   "execution_count": 13,
   "metadata": {},
   "outputs": [
    {
     "name": "stdout",
     "output_type": "stream",
     "text": [
      "S11\n",
      "         Date Site      Flow  DRP  TP  TSS\n",
      "21 2018-06-22  S11  0.103414  NaN NaN  NaN\n",
      "22 2018-06-27  S11  0.189099  NaN NaN  NaN\n",
      "28 2018-10-11  S11  0.156634  NaN NaN  NaN\n",
      "S12\n",
      "         Date Site      Flow  DRP  TP  TSS\n",
      "59 2018-08-21  S12  0.128687  NaN NaN  NaN\n",
      "60 2018-08-31  S12  0.028923  NaN NaN  NaN\n",
      "61 2018-09-06  S12  0.024730  NaN NaN  NaN\n",
      "62 2018-09-26  S12  0.022594  NaN NaN  NaN\n"
     ]
    }
   ],
   "source": [
    "# create separate dataframe that only contain null values\n",
    "data_11_null = data_11[data_11.isnull().any(axis=1)]\n",
    "data_12_null = data_12[data_12.isnull().any(axis=1)]\n",
    "print('S11')\n",
    "print(data_11_null)\n",
    "print('S12')\n",
    "print(data_12_null)"
   ]
  },
  {
   "cell_type": "code",
   "execution_count": 14,
   "metadata": {},
   "outputs": [
    {
     "name": "stdout",
     "output_type": "stream",
     "text": [
      "S11\n",
      "Date    0\n",
      "Site    0\n",
      "Flow    0\n",
      "DRP     0\n",
      "TP      0\n",
      "TSS     0\n",
      "dtype: int64\n",
      "S12\n",
      "Date    0\n",
      "Site    0\n",
      "Flow    0\n",
      "DRP     0\n",
      "TP      0\n",
      "TSS     0\n",
      "dtype: int64\n"
     ]
    }
   ],
   "source": [
    "# drop the null values from the original dataset\n",
    "data_11 = data_11.dropna()\n",
    "data_12 = data_12.dropna()\n",
    "print('S11')\n",
    "print(data_11.isnull().sum())\n",
    "print('S12')\n",
    "print(data_12.isnull().sum())"
   ]
  },
  {
   "cell_type": "code",
   "execution_count": 16,
   "metadata": {},
   "outputs": [
    {
     "data": {
      "image/png": "[encoded data removed]",
      "text/plain": [
       "<Figure size 907.2x432 with 3 Axes>"
      ]
     },
     "metadata": {
      "needs_background": "light"
     },
     "output_type": "display_data"
    },
    {
     "data": {
      "image/png": "[encoded data removed]",
      "text/plain": [
       "<Figure size 907.2x432 with 3 Axes>"
      ]
     },
     "metadata": {
      "needs_background": "light"
     },
     "output_type": "display_data"
    }
   ],
   "source": [
    "# visualize the relationship between flow and responses\n",
    "sns.pairplot(data_11, x_vars=['DRP', 'TP', 'TSS'], y_vars=['Flow'], height=6, aspect=0.7)\n",
    "sns.pairplot(data_12, x_vars=['DRP', 'TP', 'TSS'], y_vars=['Flow'], height=6, aspect=0.7)\n",
    "plt.show()"
   ]
  },
  {
   "cell_type": "code",
   "execution_count": 92,
   "metadata": {},
   "outputs": [
    {
     "name": "stdout",
     "output_type": "stream",
     "text": [
      "(32, 1)\n",
      "(32,)\n"
     ]
    }
   ],
   "source": [
    "# there are 6 datasets, try to use 1 dataset to get the model to work first, then incorporate the loop function later\n",
    "x = data_12['Flow']\n",
    "X = x[:, np.newaxis]\n",
    "print(X.shape)\n",
    "\n",
    "Y = data_12['DRP'] \n",
    "print(Y.shape)"
   ]
  },
  {
   "cell_type": "code",
   "execution_count": 120,
   "metadata": {},
   "outputs": [
    {
     "data": {
      "text/plain": [
       "(24, 1)"
      ]
     },
     "execution_count": 120,
     "metadata": {},
     "output_type": "execute_result"
    }
   ],
   "source": [
    "# split dataset into train and test\n",
    "\n",
    "from sklearn.model_selection import train_test_split\n",
    "X_train, X_test, Y_train, Y_test = train_test_split(X, Y, test_size = 0.25, random_state = 0)\n",
    "X_train.shape"
   ]
  },
  {
   "cell_type": "code",
   "execution_count": 121,
   "metadata": {},
   "outputs": [],
   "source": [
    "# small alpha value is needed \n",
    "reg = linear_model.Lasso(alpha=0.001)\n",
    "\n",
    "# train the model\n",
    "reg.fit(X_train, Y_train)\n",
    "\n",
    "# predict outputs using test dataset\n",
    "Y_pred = reg.predict(X_test)"
   ]
  },
  {
   "cell_type": "code",
   "execution_count": 129,
   "metadata": {},
   "outputs": [
    {
     "data": {
      "image/png": "[encoded data removed]",
      "text/plain": [
       "<Figure size 432x288 with 1 Axes>"
      ]
     },
     "metadata": {
      "needs_background": "light"
     },
     "output_type": "display_data"
    },
    {
     "name": "stdout",
     "output_type": "stream",
     "text": [
      "R2 = 0.7258980067912937\n"
     ]
    }
   ],
   "source": [
    "from sklearn.metrics import r2_score\n",
    "\n",
    "# compare predict vs actual DRP\n",
    "plt.scatter(Y_test, Y_pred)\n",
    "plt.show()\n",
    "print('R2 =',r2_score(Y_test, Y_pred))"
   ]
  },
  {
   "cell_type": "markdown",
   "metadata": {},
   "source": [
    "R2 = 0.726 in this model is better than OLS prediction (R2 = 0.413) for S12 DRP. Now try this approach for other datasets"
   ]
  },
  {
   "cell_type": "code",
   "execution_count": 160,
   "metadata": {},
   "outputs": [
    {
     "data": {
      "image/png": "[encoded data removed]",
      "text/plain": [
       "<Figure size 432x288 with 1 Axes>"
      ]
     },
     "metadata": {
      "needs_background": "light"
     },
     "output_type": "display_data"
    },
    {
     "name": "stdout",
     "output_type": "stream",
     "text": [
      "R2 = 0.7049103617005045\n"
     ]
    },
    {
     "data": {
      "image/png": "[encoded data removed]",
      "text/plain": [
       "<Figure size 432x288 with 1 Axes>"
      ]
     },
     "metadata": {
      "needs_background": "light"
     },
     "output_type": "display_data"
    },
    {
     "name": "stdout",
     "output_type": "stream",
     "text": [
      "R2 = -2.936543167330999\n"
     ]
    },
    {
     "data": {
      "image/png": "[encoded data removed]",
      "text/plain": [
       "<Figure size 432x288 with 1 Axes>"
      ]
     },
     "metadata": {
      "needs_background": "light"
     },
     "output_type": "display_data"
    },
    {
     "name": "stdout",
     "output_type": "stream",
     "text": [
      "R2 = -33.952430192435095\n"
     ]
    }
   ],
   "source": [
    "from sklearn.model_selection import train_test_split\n",
    "from sklearn.metrics import r2_score\n",
    "\n",
    "# use one loop for each site: sub 11 and sub 12\n",
    "# work on sub 11 first\n",
    "x = data_11['Flow']\n",
    "X = x[:, np.newaxis]\n",
    "\n",
    "list_of_analytes = [data_11['DRP'], data_11['TP'], data_11['TSS']]\n",
    "\n",
    "for Y in list_of_analytes:\n",
    "    #print(Y.shape)\n",
    "    X_train, X_test, Y_train, Y_test = train_test_split(X, Y, test_size = 0.25, random_state = 0)\n",
    "    #print(X_train.shape)\n",
    "    \n",
    "    # small alpha value is needed \n",
    "    reg = linear_model.Lasso(alpha=0.0001)\n",
    "\n",
    "    # train the model\n",
    "    reg.fit(X_train, Y_train)\n",
    "\n",
    "    # predict outputs using test dataset\n",
    "    Y_pred = reg.predict(X_test)\n",
    "    \n",
    "    # compare predict vs actual values\n",
    "    plt.scatter(Y_test, Y_pred)\n",
    "    plt.show()\n",
    "    print('R2 =',r2_score(Y_test, Y_pred))\n"
   ]
  },
  {
   "cell_type": "code",
   "execution_count": 166,
   "metadata": {},
   "outputs": [
    {
     "data": {
      "image/png": "[encoded data removed]",
      "text/plain": [
       "<Figure size 432x288 with 1 Axes>"
      ]
     },
     "metadata": {
      "needs_background": "light"
     },
     "output_type": "display_data"
    },
    {
     "name": "stdout",
     "output_type": "stream",
     "text": [
      "R2 = 0.7258980067912937\n"
     ]
    },
    {
     "data": {
      "image/png": "[encoded data removed]",
      "text/plain": [
       "<Figure size 432x288 with 1 Axes>"
      ]
     },
     "metadata": {
      "needs_background": "light"
     },
     "output_type": "display_data"
    },
    {
     "name": "stdout",
     "output_type": "stream",
     "text": [
      "R2 = -1.4726622379371186\n"
     ]
    },
    {
     "data": {
      "image/png": "[encoded data removed]",
      "text/plain": [
       "<Figure size 432x288 with 1 Axes>"
      ]
     },
     "metadata": {
      "needs_background": "light"
     },
     "output_type": "display_data"
    },
    {
     "name": "stdout",
     "output_type": "stream",
     "text": [
      "R2 = -112.97736375045491\n"
     ]
    }
   ],
   "source": [
    "from sklearn.model_selection import train_test_split\n",
    "from sklearn.metrics import r2_score\n",
    "\n",
    "# use one loop for each site: sub 11 and sub 12\n",
    "# work on sub 11 first\n",
    "x = data_12['Flow']\n",
    "X = x[:, np.newaxis]\n",
    "\n",
    "list_of_analytes = [data_12['DRP'], data_12['TP'], data_12['TSS']]\n",
    "\n",
    "for Y in list_of_analytes:\n",
    "    #print(Y.shape)\n",
    "    X_train, X_test, Y_train, Y_test = train_test_split(X, Y, test_size = 0.25, random_state = 0)\n",
    "    #print(X_train.shape)\n",
    "    \n",
    "    # small alpha value is needed \n",
    "    reg = linear_model.Lasso(alpha=0.001)\n",
    "\n",
    "    # train the model\n",
    "    reg.fit(X_train, Y_train)\n",
    "\n",
    "    # predict outputs using test dataset\n",
    "    Y_pred = reg.predict(X_test)\n",
    "    \n",
    "    # compare predict vs actual values\n",
    "    plt.scatter(Y_test, Y_pred)\n",
    "    plt.show()\n",
    "    print('R2 =',r2_score(Y_test, Y_pred))"
   ]
  },
  {
   "cell_type": "markdown",
   "metadata": {},
   "source": [
    "# Discussion:\n",
    "Well...it turns out that this model only can predict DRP well (based on improved R2 of predicted vs actual values), and not TP or TSS"
   ]
  },
  {
   "cell_type": "code",
   "execution_count": null,
   "metadata": {},
   "outputs": [],
   "source": []
  }
 ],
 "metadata": {
  "kernelspec": {
   "display_name": "Python 3",
   "language": "python",
   "name": "python3"
  },
  "language_info": {
   "codemirror_mode": {
    "name": "ipython",
    "version": 3
   },
   "file_extension": ".py",
   "mimetype": "text/x-python",
   "name": "python",
   "nbconvert_exporter": "python",
   "pygments_lexer": "ipython3",
   "version": "3.7.3"
  }
 },
 "nbformat": 4,
 "nbformat_minor": 2
}
